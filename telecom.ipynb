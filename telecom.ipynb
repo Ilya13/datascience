{
 "cells": [
  {
   "cell_type": "markdown",
   "metadata": {},
   "source": [
    "<div style=\"border:solid green 2px; padding: 20px\">\n",
    "Илья, привет! Меня зовут Сергей Дроздов, и я буду проверять твой проект. Предлагаю общаться на «ты». Если тебе удобнее общаться на \"Вы\", просто дай знать.\n",
    "\n",
    "Ты уже проделал(а) большую работу над проектом, но давай сделаем его еще лучше. Ниже ты найдешь мои комментарии - пожалуйста, не перемещай, не изменяй и не удаляй их. Я буду использовать цветовую разметку:\n",
    "\n",
    "<div class=\"alert alert-danger\">\n",
    "<b>Комментарий ревьюера: &#10060; </b> Так будут выделены комментарии с указаниями, обязательными к выполнению. Без их выполнения проект не будет принят. </div>\n",
    "\n",
    "<div class=\"alert alert-warning\">\n",
    "<b>Комментарий ревьюера:\n",
    "&#9888;</b> Так будут выделены некритичные замечания. Их отработка позволит улучшить качество твоего проекта.\n",
    "</div>\n",
    "\n",
    "<div class=\"alert alert-success\">\n",
    "<b>Комментарий ревьюера:\n",
    "&#9989;</b> Так будут выделены остальные комментарии, полезные лайфхаки и ссылки на сторонние ресурсы </div>\n",
    "    <br>\n",
    "<div style=\"border-radius: 15px; border: 3px solid indigo; padding: 15px;background:rgb(185, 176, 207)\">\n",
    "<b>Итоговый комментарий ревьюера:\n",
    "</b> Так будут выделены итоговые комментарии.\n",
    "</div>\n",
    "\n",
    "Для наиболее эффективной и оперативной работы над проектом, мне хотелось бы иметь обратную связь. Не стесняйся задавать вопросы. Если ты что-либо меняешь в проекте, пожалуйста, комментируй это. Мне будет легче отследить изменения, если ты выделишь свои комментарии:\n",
    "<div class=\"alert alert-info\">\n",
    "<b> Комментарий студента:</div>"
   ]
  },
  {
   "cell_type": "markdown",
   "metadata": {},
   "source": [
    "# Телекоммуникации"
   ]
  },
  {
   "cell_type": "markdown",
   "metadata": {},
   "source": [
    "Оператор связи «Ниединогоразрыва.ком» хочет научиться прогнозировать отток клиентов. Если выяснится, что пользователь планирует уйти, ему будут предложены промокоды и специальные условия. Команда оператора собрала персональные данные о некоторых клиентах, информацию об их тарифах и договорах.\n",
    "\n",
    "**Описание услуг**\n",
    "\n",
    "Оператор предоставляет два основных типа услуг: \n",
    "1. Стационарную телефонную связь. Возможно подключение телефонного аппарата к нескольким линиям одновременно.\n",
    "2. Интернет. Подключение может быть двух типов: через телефонную линию (DSL, от англ. digital subscriber line, «цифровая абонентская линия») или оптоволоконный кабель (Fiber optic).\n",
    "\n",
    "Также доступны такие услуги:\n",
    "* Интернет-безопасность: антивирус (DeviceProtection) и блокировка небезопасных сайтов (OnlineSecurity);\n",
    "* Выделенная линия технической поддержки (TechSupport);\n",
    "* Облачное хранилище файлов для резервного копирования данных (OnlineBackup);\n",
    "* Стриминговое телевидение (StreamingTV) и каталог фильмов (StreamingMovies).\n",
    "\n",
    "За услуги клиенты могут платить каждый месяц или заключить договор на 1–2 года. Доступны различные способы расчёта и возможность получения электронного чека.\n",
    "\n",
    "**Описание данных**\n",
    "\n",
    "Данные состоят из файлов, полученных из разных источников:\n",
    "- `contract_new.csv` — информация о договоре;\n",
    "- `personal_new.csv` — персональные данные клиента;\n",
    "- `internet_new.csv` — информация об интернет-услугах;\n",
    "- `phone_new.csv` — информация об услугах телефонии.\n",
    "\n",
    "Во всех файлах столбец `customerID` содержит код клиента.\n",
    "\n",
    "Информация о договорах актуальна на 1 февраля 2020.\n",
    "\n",
    "*contract_new.csv*:\n",
    "* `BeginDate` - дата начала пользования услугами;\n",
    "* `EndDate` - дата окончания пользования услугами;\n",
    "* `Type` - тип оплаты: ежемесячный, годовой и т.д.;\n",
    "* `PaperlessBilling` - электронный платежный документ;\n",
    "* `PaymentMethod` - способ оплаты;\n",
    "* `MonthlyCharges` - ежемесяцные траты на услуги;\n",
    "* `TotalCharges` - всего потрачено денег на услуги.\n",
    "\n",
    "*personal_new.csv*:\n",
    "* `gender` - пол клиента;\n",
    "* `SeniorCitizen` - наличие пенсионного статуса по возрасту;\n",
    "* `Partner` - наличие супруга(и);\n",
    "* `Dependents` - наличие иждевенцев.\n",
    "\n",
    "*internet_new.csv*:\n",
    "* `InternetService` - тип интернет подключения: через телефонную линию (DSL) или оптоволоконный кабель (Fiber optic);\n",
    "* `OnlineSecurity` - блокировка небезопасных сайтов;\n",
    "* `OnlineBackup` - облачное хранилище файлов для резервного копирования данных;\n",
    "* `DeviceProtection` - антивирус;\n",
    "* `TechSupport` - выделенная линия технической поддержки;\n",
    "* `StreamingTV` - стриминговое телевидение;\n",
    "* `StreamingMovies` - каталог фильмов.\n",
    "\n",
    "*phone_new.csv*:\n",
    "* `MultipleLines` - наличие возможностей ведения парралельных линий во время звонка.\n",
    "\n",
    "**Цель исследования**\n",
    "\n",
    "Построить модель для задачи классификации, которая спрогнозирует уйдёт клиент в ближайшее время или нет. Значение метрики AUC-ROC должно быть не меньше 0.85.\n",
    "\n",
    "**Ход исследнования**\n",
    "\n",
    "1. Обзор данных\n",
    "    1. Загрузка данных\n",
    "    2. Приведение названий колонок к нормальному виду\n",
    "    3. Приведение типов данных к верному типу\n",
    "    4. Обработка пропусков\n",
    "    5. Поиск дублей\n",
    "    6. Обработка аномальных значений\n",
    "2. Исследование задачи\n",
    "    1. Объединение признаков в финальный датасет\n",
    "    2. Выделение целевого признака и расчет признака \"Длительность контракта\"\n",
    "    3. Анализ данных, построение графиков распределения\n",
    "    4. Проведение анализа признаков на мультиколлинеарность\n",
    "    5. Исследование дисбаланса классов\n",
    "3. Обучение моделей\n",
    "    1. Выделение выборок для обучени, валидации моделей и тестирования\n",
    "    2. Кодирование и масштабирование признаков\n",
    "    3. Обучение трех моделей (линейной и бустинговой) и подбор гипер параметров\n",
    "    4. Выбор итоговой модели по результатам кроссвалидации\n",
    "    5. Проверка выбранной модели на тестовой выборке\n",
    "    6. Анализ важности признаков\n",
    "    7. Анализ матрицы ошибок\n",
    "    8. Анализ ROC-кривой итоговой модели\n",
    "4. Тестирование финальной модели и проверка на адекватность\n",
    "5. Вывод"
   ]
  },
  {
   "cell_type": "markdown",
   "metadata": {},
   "source": [
    "<div class=\"alert alert-success\">\n",
    "<b>Комментарий ревьюера:\n",
    "&#9989;</b> Отличный план!</div>\n",
    "    <br>"
   ]
  },
  {
   "cell_type": "markdown",
   "metadata": {},
   "source": [
    "## Обзор данных"
   ]
  },
  {
   "cell_type": "code",
   "execution_count": 5,
   "metadata": {
    "scrolled": true
   },
   "outputs": [],
   "source": [
    "#pip install --upgrade Pillow"
   ]
  },
  {
   "cell_type": "code",
   "execution_count": 6,
   "metadata": {
    "scrolled": true
   },
   "outputs": [],
   "source": [
    "#pip install pandas-profiling"
   ]
  },
  {
   "cell_type": "code",
   "execution_count": 7,
   "metadata": {},
   "outputs": [],
   "source": [
    "#pip install scikit-learn --upgrade"
   ]
  },
  {
   "cell_type": "code",
   "execution_count": 8,
   "metadata": {},
   "outputs": [],
   "source": [
    "#Код ревьюера\n",
    "#!pip install phik"
   ]
  },
  {
   "cell_type": "code",
   "execution_count": 9,
   "metadata": {},
   "outputs": [],
   "source": [
    "import pandas as pd\n",
    "import phik\n",
    "import numpy as np\n",
    "from phik.report import plot_correlation_matrix\n",
    "from ydata_profiling import ProfileReport\n",
    "\n",
    "from sklearn.model_selection import train_test_split, GridSearchCV\n",
    "from sklearn.compose import make_column_transformer\n",
    "from sklearn.pipeline import make_pipeline\n",
    "from sklearn.preprocessing import OneHotEncoder, StandardScaler\n",
    "from sklearn.ensemble import RandomForestClassifier\n",
    "from sklearn.linear_model import LogisticRegression\n",
    "from catboost import CatBoostClassifier\n",
    "from sklearn.metrics import roc_curve, roc_auc_score, confusion_matrix, ConfusionMatrixDisplay, classification_report, ConfusionMatrixDisplay\n",
    "from sklearn.dummy import DummyClassifier\n",
    "\n",
    "import seaborn as sns\n",
    "import matplotlib.pyplot as plt\n",
    "\n",
    "from catboost import CatBoostClassifier"
   ]
  },
  {
   "cell_type": "code",
   "execution_count": 10,
   "metadata": {},
   "outputs": [],
   "source": [
    "pd.set_option('display.max_columns', None)"
   ]
  },
  {
   "cell_type": "markdown",
   "metadata": {},
   "source": [
    "### Загрузка данных"
   ]
  },
  {
   "cell_type": "code",
   "execution_count": 11,
   "metadata": {},
   "outputs": [],
   "source": [
    "contract = pd.read_csv('/datasets/contract_new.csv', index_col='customerID')\n",
    "personal = pd.read_csv('/datasets/personal_new.csv', index_col='customerID')\n",
    "internet = pd.read_csv('/datasets/internet_new.csv', index_col='customerID')\n",
    "phone = pd.read_csv('/datasets/phone_new.csv', index_col='customerID')"
   ]
  },
  {
   "cell_type": "code",
   "execution_count": 12,
   "metadata": {},
   "outputs": [
    {
     "name": "stdout",
     "output_type": "stream",
     "text": [
      "<class 'pandas.core.frame.DataFrame'>\n",
      "Index: 7043 entries, 7590-VHVEG to 3186-AJIEK\n",
      "Data columns (total 7 columns):\n",
      " #   Column            Non-Null Count  Dtype  \n",
      "---  ------            --------------  -----  \n",
      " 0   BeginDate         7043 non-null   object \n",
      " 1   EndDate           7043 non-null   object \n",
      " 2   Type              7043 non-null   object \n",
      " 3   PaperlessBilling  7043 non-null   object \n",
      " 4   PaymentMethod     7043 non-null   object \n",
      " 5   MonthlyCharges    7043 non-null   float64\n",
      " 6   TotalCharges      7043 non-null   object \n",
      "dtypes: float64(1), object(6)\n",
      "memory usage: 440.2+ KB\n"
     ]
    }
   ],
   "source": [
    "contract.info()"
   ]
  },
  {
   "cell_type": "code",
   "execution_count": 13,
   "metadata": {},
   "outputs": [
    {
     "data": {
      "application/vnd.jupyter.widget-view+json": {
       "model_id": "9871347ce5b6482d8882f6c5ec9a3090",
       "version_major": 2,
       "version_minor": 0
      },
      "text/plain": [
       "Summarize dataset:   0%|          | 0/5 [00:00<?, ?it/s]"
      ]
     },
     "metadata": {},
     "output_type": "display_data"
    },
    {
     "data": {
      "application/vnd.jupyter.widget-view+json": {
       "model_id": "b5a8834d22d9458aba9c163b70ddd0f1",
       "version_major": 2,
       "version_minor": 0
      },
      "text/plain": [
       "Generate report structure:   0%|          | 0/1 [00:00<?, ?it/s]"
      ]
     },
     "metadata": {},
     "output_type": "display_data"
    },
    {
     "data": {
      "application/vnd.jupyter.widget-view+json": {
       "model_id": "",
       "version_major": 2,
       "version_minor": 0
      },
      "text/plain": [
       "Render widgets:   0%|          | 0/1 [00:00<?, ?it/s]"
      ]
     },
     "metadata": {},
     "output_type": "display_data"
    },
    {
     "data": {
      "application/vnd.jupyter.widget-view+json": {
       "model_id": "d647cee7eb1e4db0b76b81c9ecada709",
       "version_major": 2,
       "version_minor": 0
      },
      "text/plain": [
       "VBox(children=(Tab(children=(Tab(children=(GridBox(children=(VBox(children=(GridspecLayout(children=(HTML(valu…"
      ]
     },
     "metadata": {},
     "output_type": "display_data"
    }
   ],
   "source": [
    "ProfileReport(contract).to_widgets()"
   ]
  },
  {
   "cell_type": "markdown",
   "metadata": {},
   "source": [
    "* Явных пропусков нет, но есть пропуски в колонке `EndDate`, которые требуют обработки;\n",
    "* Типы колонок `BeginDate`, `EndDate`, `PaperlessBilling`, `TotalCharges` не соответствуют их значениям;\n",
    "* В колонке `Type` три категории: `Month-to-month`, `One year`, `Two year`.\n",
    "\n",
    "В данной таблице три категориальных признака: `Type`, `PaperlessBilling`, `PaymentMethod`, два числовых признака:  `MonthlyCharges`, `TotalCharges`. Из признаков `BeginDate` и `EndDate` надо будет сформировать целевой признак. Есть не большая корреляция 52% между признаками `PaperlessBilling` и `BeginDate`, возможно она связана с тем, что электронный платежный документ был введен с какой то определенной даты."
   ]
  },
  {
   "cell_type": "markdown",
   "metadata": {},
   "source": [
    "<div class=\"alert alert-success\">\n",
    "<b>Комментарий ревьюера:\n",
    "&#9989;</b> Отлично!</div>\n",
    "    <br>"
   ]
  },
  {
   "cell_type": "code",
   "execution_count": 14,
   "metadata": {},
   "outputs": [
    {
     "name": "stdout",
     "output_type": "stream",
     "text": [
      "<class 'pandas.core.frame.DataFrame'>\n",
      "Index: 7043 entries, 7590-VHVEG to 3186-AJIEK\n",
      "Data columns (total 4 columns):\n",
      " #   Column         Non-Null Count  Dtype \n",
      "---  ------         --------------  ----- \n",
      " 0   gender         7043 non-null   object\n",
      " 1   SeniorCitizen  7043 non-null   int64 \n",
      " 2   Partner        7043 non-null   object\n",
      " 3   Dependents     7043 non-null   object\n",
      "dtypes: int64(1), object(3)\n",
      "memory usage: 275.1+ KB\n"
     ]
    }
   ],
   "source": [
    "personal.info()"
   ]
  },
  {
   "cell_type": "code",
   "execution_count": 15,
   "metadata": {
    "scrolled": false
   },
   "outputs": [
    {
     "data": {
      "application/vnd.jupyter.widget-view+json": {
       "model_id": "58f2cac2d2df45edb7d026cb71f6e7ab",
       "version_major": 2,
       "version_minor": 0
      },
      "text/plain": [
       "Summarize dataset:   0%|          | 0/5 [00:00<?, ?it/s]"
      ]
     },
     "metadata": {},
     "output_type": "display_data"
    },
    {
     "data": {
      "application/vnd.jupyter.widget-view+json": {
       "model_id": "99d7555e5c3f48f5b6c62212f685c70c",
       "version_major": 2,
       "version_minor": 0
      },
      "text/plain": [
       "Generate report structure:   0%|          | 0/1 [00:00<?, ?it/s]"
      ]
     },
     "metadata": {},
     "output_type": "display_data"
    },
    {
     "data": {
      "application/vnd.jupyter.widget-view+json": {
       "model_id": "",
       "version_major": 2,
       "version_minor": 0
      },
      "text/plain": [
       "Render widgets:   0%|          | 0/1 [00:00<?, ?it/s]"
      ]
     },
     "metadata": {},
     "output_type": "display_data"
    },
    {
     "data": {
      "application/vnd.jupyter.widget-view+json": {
       "model_id": "75e392c209ac41f881897524dbae6bc5",
       "version_major": 2,
       "version_minor": 0
      },
      "text/plain": [
       "VBox(children=(Tab(children=(Tab(children=(GridBox(children=(VBox(children=(GridspecLayout(children=(HTML(valu…"
      ]
     },
     "metadata": {},
     "output_type": "display_data"
    }
   ],
   "source": [
    "ProfileReport(personal).to_widgets()"
   ]
  },
  {
   "cell_type": "markdown",
   "metadata": {},
   "source": [
    "* Пропусков в таблице нет.\n",
    "\n",
    "В данной таблице все признаки категориальные. Есть небольшая корреляция 45% между признаками `Partner` и `Dependents`, логично, что люди чаще заводят детей в находясь браке."
   ]
  },
  {
   "cell_type": "code",
   "execution_count": 16,
   "metadata": {},
   "outputs": [
    {
     "name": "stdout",
     "output_type": "stream",
     "text": [
      "<class 'pandas.core.frame.DataFrame'>\n",
      "Index: 5517 entries, 7590-VHVEG to 3186-AJIEK\n",
      "Data columns (total 7 columns):\n",
      " #   Column            Non-Null Count  Dtype \n",
      "---  ------            --------------  ----- \n",
      " 0   InternetService   5517 non-null   object\n",
      " 1   OnlineSecurity    5517 non-null   object\n",
      " 2   OnlineBackup      5517 non-null   object\n",
      " 3   DeviceProtection  5517 non-null   object\n",
      " 4   TechSupport       5517 non-null   object\n",
      " 5   StreamingTV       5517 non-null   object\n",
      " 6   StreamingMovies   5517 non-null   object\n",
      "dtypes: object(7)\n",
      "memory usage: 344.8+ KB\n"
     ]
    }
   ],
   "source": [
    "internet.info()"
   ]
  },
  {
   "cell_type": "code",
   "execution_count": 17,
   "metadata": {
    "scrolled": false
   },
   "outputs": [
    {
     "data": {
      "application/vnd.jupyter.widget-view+json": {
       "model_id": "0d9f66d69a7d48afaa82843a5bc10291",
       "version_major": 2,
       "version_minor": 0
      },
      "text/plain": [
       "Summarize dataset:   0%|          | 0/5 [00:00<?, ?it/s]"
      ]
     },
     "metadata": {},
     "output_type": "display_data"
    },
    {
     "data": {
      "application/vnd.jupyter.widget-view+json": {
       "model_id": "05fe792243cf4d4b8c2d0fa5fadc288c",
       "version_major": 2,
       "version_minor": 0
      },
      "text/plain": [
       "Generate report structure:   0%|          | 0/1 [00:00<?, ?it/s]"
      ]
     },
     "metadata": {},
     "output_type": "display_data"
    },
    {
     "data": {
      "application/vnd.jupyter.widget-view+json": {
       "model_id": "",
       "version_major": 2,
       "version_minor": 0
      },
      "text/plain": [
       "Render widgets:   0%|          | 0/1 [00:00<?, ?it/s]"
      ]
     },
     "metadata": {},
     "output_type": "display_data"
    },
    {
     "data": {
      "application/vnd.jupyter.widget-view+json": {
       "model_id": "7db0f1a11f81449e81fa9bbc49db671a",
       "version_major": 2,
       "version_minor": 0
      },
      "text/plain": [
       "VBox(children=(Tab(children=(Tab(children=(GridBox(children=(VBox(children=(GridspecLayout(children=(HTML(valu…"
      ]
     },
     "metadata": {},
     "output_type": "display_data"
    }
   ],
   "source": [
    "ProfileReport(internet).to_widgets()"
   ]
  },
  {
   "cell_type": "markdown",
   "metadata": {},
   "source": [
    "* Пропусков в таблице нет.\n",
    "\n",
    "В данной таблице все признаки категориальные. Есть небольшая корреляция 43% между признаками `StreamingTV` и `StreamingMovies`, видимо клиенты берут эти услуги вместе."
   ]
  },
  {
   "cell_type": "code",
   "execution_count": 18,
   "metadata": {},
   "outputs": [
    {
     "name": "stdout",
     "output_type": "stream",
     "text": [
      "<class 'pandas.core.frame.DataFrame'>\n",
      "Index: 6361 entries, 5575-GNVDE to 3186-AJIEK\n",
      "Data columns (total 1 columns):\n",
      " #   Column         Non-Null Count  Dtype \n",
      "---  ------         --------------  ----- \n",
      " 0   MultipleLines  6361 non-null   object\n",
      "dtypes: object(1)\n",
      "memory usage: 99.4+ KB\n"
     ]
    }
   ],
   "source": [
    "phone.info()"
   ]
  },
  {
   "cell_type": "code",
   "execution_count": 19,
   "metadata": {},
   "outputs": [
    {
     "data": {
      "application/vnd.jupyter.widget-view+json": {
       "model_id": "299c05fba4c94b06b7d279387ab23fa5",
       "version_major": 2,
       "version_minor": 0
      },
      "text/plain": [
       "Summarize dataset:   0%|          | 0/5 [00:00<?, ?it/s]"
      ]
     },
     "metadata": {},
     "output_type": "display_data"
    },
    {
     "data": {
      "application/vnd.jupyter.widget-view+json": {
       "model_id": "5042d732df0c41d9ae1a8e30fd8e261b",
       "version_major": 2,
       "version_minor": 0
      },
      "text/plain": [
       "Generate report structure:   0%|          | 0/1 [00:00<?, ?it/s]"
      ]
     },
     "metadata": {},
     "output_type": "display_data"
    },
    {
     "data": {
      "application/vnd.jupyter.widget-view+json": {
       "model_id": "",
       "version_major": 2,
       "version_minor": 0
      },
      "text/plain": [
       "Render widgets:   0%|          | 0/1 [00:00<?, ?it/s]"
      ]
     },
     "metadata": {},
     "output_type": "display_data"
    },
    {
     "data": {
      "application/vnd.jupyter.widget-view+json": {
       "model_id": "a2a587427711436cb6e32b67e1a889fd",
       "version_major": 2,
       "version_minor": 0
      },
      "text/plain": [
       "VBox(children=(Tab(children=(Tab(children=(GridBox(children=(VBox(children=(GridspecLayout(children=(HTML(valu…"
      ]
     },
     "metadata": {},
     "output_type": "display_data"
    }
   ],
   "source": [
    "ProfileReport(phone).to_widgets()"
   ]
  },
  {
   "cell_type": "markdown",
   "metadata": {},
   "source": [
    "* Пропусков в таблице нет.\n",
    "\n",
    "В данной таблице все признаки категориальные."
   ]
  },
  {
   "cell_type": "markdown",
   "metadata": {},
   "source": [
    "### Названия колонок"
   ]
  },
  {
   "cell_type": "code",
   "execution_count": 20,
   "metadata": {},
   "outputs": [],
   "source": [
    "# Приведем названия колонок в camel_case\n",
    "def to_camel_case(df):\n",
    "    df.columns = (df.columns\n",
    "                    .str.replace('(?<=[a-z])(?=[A-Z])', '_', regex=True)\n",
    "                    .str.lower()\n",
    "                 )\n",
    "    print(df.columns)"
   ]
  },
  {
   "cell_type": "code",
   "execution_count": 21,
   "metadata": {},
   "outputs": [
    {
     "name": "stdout",
     "output_type": "stream",
     "text": [
      "Index(['begin_date', 'end_date', 'type', 'paperless_billing', 'payment_method',\n",
      "       'monthly_charges', 'total_charges'],\n",
      "      dtype='object')\n"
     ]
    }
   ],
   "source": [
    "to_camel_case(contract)"
   ]
  },
  {
   "cell_type": "code",
   "execution_count": 22,
   "metadata": {},
   "outputs": [
    {
     "name": "stdout",
     "output_type": "stream",
     "text": [
      "Index(['gender', 'senior_citizen', 'partner', 'dependents'], dtype='object')\n"
     ]
    }
   ],
   "source": [
    "to_camel_case(personal)"
   ]
  },
  {
   "cell_type": "code",
   "execution_count": 23,
   "metadata": {},
   "outputs": [
    {
     "name": "stdout",
     "output_type": "stream",
     "text": [
      "Index(['internet_service', 'online_security', 'online_backup',\n",
      "       'device_protection', 'tech_support', 'streaming_tv',\n",
      "       'streaming_movies'],\n",
      "      dtype='object')\n"
     ]
    }
   ],
   "source": [
    "to_camel_case(internet)"
   ]
  },
  {
   "cell_type": "code",
   "execution_count": 24,
   "metadata": {},
   "outputs": [
    {
     "name": "stdout",
     "output_type": "stream",
     "text": [
      "Index(['multiple_lines'], dtype='object')\n"
     ]
    }
   ],
   "source": [
    "to_camel_case(phone)"
   ]
  },
  {
   "cell_type": "markdown",
   "metadata": {},
   "source": [
    "### Приведение типов"
   ]
  },
  {
   "cell_type": "code",
   "execution_count": 25,
   "metadata": {},
   "outputs": [
    {
     "data": {
      "text/html": [
       "<div>\n",
       "<style scoped>\n",
       "    .dataframe tbody tr th:only-of-type {\n",
       "        vertical-align: middle;\n",
       "    }\n",
       "\n",
       "    .dataframe tbody tr th {\n",
       "        vertical-align: top;\n",
       "    }\n",
       "\n",
       "    .dataframe thead th {\n",
       "        text-align: right;\n",
       "    }\n",
       "</style>\n",
       "<table border=\"1\" class=\"dataframe\">\n",
       "  <thead>\n",
       "    <tr style=\"text-align: right;\">\n",
       "      <th></th>\n",
       "      <th>begin_date</th>\n",
       "      <th>end_date</th>\n",
       "    </tr>\n",
       "    <tr>\n",
       "      <th>customerID</th>\n",
       "      <th></th>\n",
       "      <th></th>\n",
       "    </tr>\n",
       "  </thead>\n",
       "  <tbody>\n",
       "    <tr>\n",
       "      <th>7590-VHVEG</th>\n",
       "      <td>2020-01-01</td>\n",
       "      <td>NaT</td>\n",
       "    </tr>\n",
       "    <tr>\n",
       "      <th>5575-GNVDE</th>\n",
       "      <td>2017-04-01</td>\n",
       "      <td>NaT</td>\n",
       "    </tr>\n",
       "    <tr>\n",
       "      <th>3668-QPYBK</th>\n",
       "      <td>2019-10-01</td>\n",
       "      <td>NaT</td>\n",
       "    </tr>\n",
       "    <tr>\n",
       "      <th>7795-CFOCW</th>\n",
       "      <td>2016-05-01</td>\n",
       "      <td>NaT</td>\n",
       "    </tr>\n",
       "    <tr>\n",
       "      <th>9237-HQITU</th>\n",
       "      <td>2019-09-01</td>\n",
       "      <td>NaT</td>\n",
       "    </tr>\n",
       "  </tbody>\n",
       "</table>\n",
       "</div>"
      ],
      "text/plain": [
       "           begin_date end_date\n",
       "customerID                    \n",
       "7590-VHVEG 2020-01-01      NaT\n",
       "5575-GNVDE 2017-04-01      NaT\n",
       "3668-QPYBK 2019-10-01      NaT\n",
       "7795-CFOCW 2016-05-01      NaT\n",
       "9237-HQITU 2019-09-01      NaT"
      ]
     },
     "execution_count": 25,
     "metadata": {},
     "output_type": "execute_result"
    }
   ],
   "source": [
    "# Приведем типы признаков BeginDate, EndDate\n",
    "contract[['begin_date', 'end_date']] = contract[['begin_date', 'end_date']].apply(\n",
    "    lambda x: pd.to_datetime(x, errors='coerce')\n",
    ")\n",
    "contract[['begin_date', 'end_date']].head()"
   ]
  },
  {
   "cell_type": "code",
   "execution_count": 26,
   "metadata": {},
   "outputs": [
    {
     "data": {
      "text/plain": [
       "customerID\n",
       "7590-VHVEG      31.04\n",
       "5575-GNVDE    2071.84\n",
       "3668-QPYBK     226.17\n",
       "7795-CFOCW    1960.60\n",
       "9237-HQITU     353.50\n",
       "Name: total_charges, dtype: float64"
      ]
     },
     "execution_count": 26,
     "metadata": {},
     "output_type": "execute_result"
    }
   ],
   "source": [
    "# Приведение типа признака TotalCharges\n",
    "contract['total_charges'] = pd.to_numeric(contract['total_charges'], errors='coerce')\n",
    "contract['total_charges'].head()"
   ]
  },
  {
   "cell_type": "code",
   "execution_count": 27,
   "metadata": {},
   "outputs": [
    {
     "data": {
      "text/html": [
       "<div>\n",
       "<style scoped>\n",
       "    .dataframe tbody tr th:only-of-type {\n",
       "        vertical-align: middle;\n",
       "    }\n",
       "\n",
       "    .dataframe tbody tr th {\n",
       "        vertical-align: top;\n",
       "    }\n",
       "\n",
       "    .dataframe thead th {\n",
       "        text-align: right;\n",
       "    }\n",
       "</style>\n",
       "<table border=\"1\" class=\"dataframe\">\n",
       "  <thead>\n",
       "    <tr style=\"text-align: right;\">\n",
       "      <th></th>\n",
       "      <th>begin_date</th>\n",
       "      <th>end_date</th>\n",
       "      <th>type</th>\n",
       "      <th>paperless_billing</th>\n",
       "      <th>payment_method</th>\n",
       "      <th>monthly_charges</th>\n",
       "      <th>total_charges</th>\n",
       "    </tr>\n",
       "    <tr>\n",
       "      <th>customerID</th>\n",
       "      <th></th>\n",
       "      <th></th>\n",
       "      <th></th>\n",
       "      <th></th>\n",
       "      <th></th>\n",
       "      <th></th>\n",
       "      <th></th>\n",
       "    </tr>\n",
       "  </thead>\n",
       "  <tbody>\n",
       "    <tr>\n",
       "      <th>4472-LVYGI</th>\n",
       "      <td>2020-02-01</td>\n",
       "      <td>NaT</td>\n",
       "      <td>Two year</td>\n",
       "      <td>Yes</td>\n",
       "      <td>Bank transfer (automatic)</td>\n",
       "      <td>52.55</td>\n",
       "      <td>NaN</td>\n",
       "    </tr>\n",
       "    <tr>\n",
       "      <th>3115-CZMZD</th>\n",
       "      <td>2020-02-01</td>\n",
       "      <td>NaT</td>\n",
       "      <td>Two year</td>\n",
       "      <td>No</td>\n",
       "      <td>Mailed check</td>\n",
       "      <td>20.25</td>\n",
       "      <td>NaN</td>\n",
       "    </tr>\n",
       "    <tr>\n",
       "      <th>5709-LVOEQ</th>\n",
       "      <td>2020-02-01</td>\n",
       "      <td>NaT</td>\n",
       "      <td>Two year</td>\n",
       "      <td>No</td>\n",
       "      <td>Mailed check</td>\n",
       "      <td>80.85</td>\n",
       "      <td>NaN</td>\n",
       "    </tr>\n",
       "    <tr>\n",
       "      <th>4367-NUYAO</th>\n",
       "      <td>2020-02-01</td>\n",
       "      <td>NaT</td>\n",
       "      <td>Two year</td>\n",
       "      <td>No</td>\n",
       "      <td>Mailed check</td>\n",
       "      <td>25.75</td>\n",
       "      <td>NaN</td>\n",
       "    </tr>\n",
       "    <tr>\n",
       "      <th>1371-DWPAZ</th>\n",
       "      <td>2020-02-01</td>\n",
       "      <td>NaT</td>\n",
       "      <td>Two year</td>\n",
       "      <td>No</td>\n",
       "      <td>Credit card (automatic)</td>\n",
       "      <td>56.05</td>\n",
       "      <td>NaN</td>\n",
       "    </tr>\n",
       "    <tr>\n",
       "      <th>7644-OMVMY</th>\n",
       "      <td>2020-02-01</td>\n",
       "      <td>NaT</td>\n",
       "      <td>Two year</td>\n",
       "      <td>No</td>\n",
       "      <td>Mailed check</td>\n",
       "      <td>19.85</td>\n",
       "      <td>NaN</td>\n",
       "    </tr>\n",
       "    <tr>\n",
       "      <th>3213-VVOLG</th>\n",
       "      <td>2020-02-01</td>\n",
       "      <td>NaT</td>\n",
       "      <td>Two year</td>\n",
       "      <td>No</td>\n",
       "      <td>Mailed check</td>\n",
       "      <td>25.35</td>\n",
       "      <td>NaN</td>\n",
       "    </tr>\n",
       "    <tr>\n",
       "      <th>2520-SGTTA</th>\n",
       "      <td>2020-02-01</td>\n",
       "      <td>NaT</td>\n",
       "      <td>Two year</td>\n",
       "      <td>No</td>\n",
       "      <td>Mailed check</td>\n",
       "      <td>20.00</td>\n",
       "      <td>NaN</td>\n",
       "    </tr>\n",
       "    <tr>\n",
       "      <th>2923-ARZLG</th>\n",
       "      <td>2020-02-01</td>\n",
       "      <td>NaT</td>\n",
       "      <td>One year</td>\n",
       "      <td>Yes</td>\n",
       "      <td>Mailed check</td>\n",
       "      <td>19.70</td>\n",
       "      <td>NaN</td>\n",
       "    </tr>\n",
       "    <tr>\n",
       "      <th>4075-WKNIU</th>\n",
       "      <td>2020-02-01</td>\n",
       "      <td>NaT</td>\n",
       "      <td>Two year</td>\n",
       "      <td>No</td>\n",
       "      <td>Mailed check</td>\n",
       "      <td>73.35</td>\n",
       "      <td>NaN</td>\n",
       "    </tr>\n",
       "    <tr>\n",
       "      <th>2775-SEFEE</th>\n",
       "      <td>2020-02-01</td>\n",
       "      <td>NaT</td>\n",
       "      <td>Two year</td>\n",
       "      <td>Yes</td>\n",
       "      <td>Bank transfer (automatic)</td>\n",
       "      <td>61.90</td>\n",
       "      <td>NaN</td>\n",
       "    </tr>\n",
       "  </tbody>\n",
       "</table>\n",
       "</div>"
      ],
      "text/plain": [
       "           begin_date end_date      type paperless_billing  \\\n",
       "customerID                                                   \n",
       "4472-LVYGI 2020-02-01      NaT  Two year               Yes   \n",
       "3115-CZMZD 2020-02-01      NaT  Two year                No   \n",
       "5709-LVOEQ 2020-02-01      NaT  Two year                No   \n",
       "4367-NUYAO 2020-02-01      NaT  Two year                No   \n",
       "1371-DWPAZ 2020-02-01      NaT  Two year                No   \n",
       "7644-OMVMY 2020-02-01      NaT  Two year                No   \n",
       "3213-VVOLG 2020-02-01      NaT  Two year                No   \n",
       "2520-SGTTA 2020-02-01      NaT  Two year                No   \n",
       "2923-ARZLG 2020-02-01      NaT  One year               Yes   \n",
       "4075-WKNIU 2020-02-01      NaT  Two year                No   \n",
       "2775-SEFEE 2020-02-01      NaT  Two year               Yes   \n",
       "\n",
       "                       payment_method  monthly_charges  total_charges  \n",
       "customerID                                                             \n",
       "4472-LVYGI  Bank transfer (automatic)            52.55            NaN  \n",
       "3115-CZMZD               Mailed check            20.25            NaN  \n",
       "5709-LVOEQ               Mailed check            80.85            NaN  \n",
       "4367-NUYAO               Mailed check            25.75            NaN  \n",
       "1371-DWPAZ    Credit card (automatic)            56.05            NaN  \n",
       "7644-OMVMY               Mailed check            19.85            NaN  \n",
       "3213-VVOLG               Mailed check            25.35            NaN  \n",
       "2520-SGTTA               Mailed check            20.00            NaN  \n",
       "2923-ARZLG               Mailed check            19.70            NaN  \n",
       "4075-WKNIU               Mailed check            73.35            NaN  \n",
       "2775-SEFEE  Bank transfer (automatic)            61.90            NaN  "
      ]
     },
     "execution_count": 27,
     "metadata": {},
     "output_type": "execute_result"
    }
   ],
   "source": [
    "# Рассмотрим пордобнее пропуски в колонке total_charges\n",
    "contract[contract['total_charges'].isna()]"
   ]
  },
  {
   "cell_type": "markdown",
   "metadata": {},
   "source": [
    "Видно, что пропуски связаны с тем что это новые клиенты и они заключили договор в тот же день, в который формировалась выборка. Заполним пропуски значениями из столбца `monthly_charges`."
   ]
  },
  {
   "cell_type": "code",
   "execution_count": 28,
   "metadata": {},
   "outputs": [
    {
     "data": {
      "text/plain": [
       "0"
      ]
     },
     "execution_count": 28,
     "metadata": {},
     "output_type": "execute_result"
    }
   ],
   "source": [
    "contract['total_charges'] = contract['total_charges'].fillna(contract['monthly_charges'])\n",
    "contract['total_charges'].isna().sum()"
   ]
  },
  {
   "cell_type": "markdown",
   "metadata": {},
   "source": [
    "<div class=\"alert alert-success\">\n",
    "<b>Комментарий ревьюера:\n",
    "&#9989;</b> Отлично!</div>"
   ]
  },
  {
   "cell_type": "markdown",
   "metadata": {},
   "source": [
    "### Обработка пропусков"
   ]
  },
  {
   "cell_type": "code",
   "execution_count": 29,
   "metadata": {},
   "outputs": [
    {
     "data": {
      "image/png": "[encoded data removed]",
      "text/plain": [
       "<Figure size 1008x576 with 1 Axes>"
      ]
     },
     "metadata": {
      "needs_background": "light"
     },
     "output_type": "display_data"
    }
   ],
   "source": [
    "# Рассмотрим подробнее даты начала пользования услугами, пользователей которые не растрогли договор\n",
    "fig, ax = plt.subplots(figsize=(14,8))\n",
    "plt.title('Распределение даты начала пользования услугами')\n",
    "plt.xlabel('Дата начала пользования услугами')\n",
    "plt.ylabel('Частота')\n",
    "sns.histplot(data=contract[contract['end_date'].isna()], x='begin_date', ax=ax, bins=30, color='orange')\n",
    "sns.histplot(data=contract[contract['end_date'].notna()], x='begin_date', ax=ax, bins=30)\n",
    "plt.legend(labels=['Действующие клиенты', 'Клиенты которые ушли'])\n",
    "plt.show();"
   ]
  },
  {
   "cell_type": "markdown",
   "metadata": {},
   "source": [
    "Из графика видно, что за последний год количество действующих клиентов увеличивается. Это может быть связано с тем, что это новые клиенты и они еще не успели обробовать продукт. Рассмотрим какое количество пользователей заключили договор за 3 месяца до выгрузки данных 1 февраля 2020."
   ]
  },
  {
   "cell_type": "code",
   "execution_count": 30,
   "metadata": {},
   "outputs": [
    {
     "name": "stdout",
     "output_type": "stream",
     "text": [
      "Процент договоров заключенных за последние 3 месяца до выгрузки данных: 3.46%\n"
     ]
    }
   ],
   "source": [
    "percent = (contract['begin_date'] > pd.Timestamp(2019, 12, 1)).sum() / contract.shape[0] * 100\n",
    "print(f'Процент договоров заключенных за последние 3 месяца до выгрузки данных: {percent:.2f}%')"
   ]
  },
  {
   "cell_type": "markdown",
   "metadata": {},
   "source": [
    "Так как новых клиентов всего 3% можно удалить эти значения."
   ]
  },
  {
   "cell_type": "code",
   "execution_count": 31,
   "metadata": {},
   "outputs": [],
   "source": [
    "contract = contract[contract['begin_date'] <= pd.Timestamp(2019, 12, 1)]"
   ]
  },
  {
   "cell_type": "markdown",
   "metadata": {},
   "source": [
    "### Вывод"
   ]
  },
  {
   "cell_type": "markdown",
   "metadata": {},
   "source": [
    "На данном этапе были загружены данные и выполнены следующие действия:\n",
    "1. Переименованы колонки в snale_case;\n",
    "2. Приведены типа данных для колонок с датами и числами;\n",
    "3. Заполнены пропуски в значениях `total_charges`, но на последнем этапе, данные строки все равно были удалены, так что это действие было лишним;\n",
    "4. Обработаны пропуски в колонке `end_date`, удалены записи о клиентах заключивших договора за последние три месяца до формирования выгрузки, до 1 декабря 2019 года."
   ]
  },
  {
   "cell_type": "markdown",
   "metadata": {},
   "source": [
    "<div class=\"alert alert-block alert-info\">\n",
    "<b>Вопрос студента:</b> Подскажите как лучше формировать целевой признак \"Длительность контракта\". Для клиентов которые не расторгли договор ставить 0, а для остальных количество дней действия договора? \n",
    "</div>"
   ]
  },
  {
   "cell_type": "markdown",
   "metadata": {},
   "source": [
    "<div style=\"border-radius: 15px; border: 3px solid indigo; padding: 15px;background:rgb(185, 176, 207)\">\n",
    "<b>Итоговый комментарий ревьюера:\n",
    "</b> Молодец, хорошее начало можешь продолжать 2 часть проекта. Длительность контракта не целевой признак, целевой ушел клиент или нет(для длительности в задании есть дата выгрузки). Также не стоит кодировать данны вручную\n",
    "</div>\n"
   ]
  },
  {
   "cell_type": "markdown",
   "metadata": {},
   "source": [
    "<div class=\"alert alert-info\">\n",
    "    <b>Комментарий студента:</b> Понял, спасибо. Ручное кодирование убрал\n",
    "</div>"
   ]
  },
  {
   "cell_type": "markdown",
   "metadata": {},
   "source": [
    "## Исследование задачи"
   ]
  },
  {
   "cell_type": "markdown",
   "metadata": {},
   "source": [
    "### Объединение признаков"
   ]
  },
  {
   "cell_type": "code",
   "execution_count": 32,
   "metadata": {},
   "outputs": [],
   "source": [
    "# За основную таблицу возмем датасет с информацией о договоре  присоединим к нему остальные таблицы\n",
    "df = contract.join([personal, internet, phone])"
   ]
  },
  {
   "cell_type": "code",
   "execution_count": 33,
   "metadata": {},
   "outputs": [],
   "source": [
    "# Сформируем целевой признак: Ушел клиент или нет\n",
    "df['exited'] = df['end_date'].apply(lambda date: 0 if pd.isna(date) else 1)"
   ]
  },
  {
   "cell_type": "markdown",
   "metadata": {},
   "source": [
    "Сформируем признак длительности контракта, для клментов которые еще не растогли договор установим `end_date` равной дате выгрузки. Мы можем это сделать, так как уже сформировали челевой признак"
   ]
  },
  {
   "cell_type": "code",
   "execution_count": 34,
   "metadata": {},
   "outputs": [],
   "source": [
    "df['end_date'] = df['end_date'].fillna(pd.Timestamp(2020, 2, 1))"
   ]
  },
  {
   "cell_type": "code",
   "execution_count": 35,
   "metadata": {},
   "outputs": [],
   "source": [
    "# Сформируем признак \"Длительность контракта\"\n",
    "df['contract_duration'] = (df['end_date'] - df['begin_date']).apply(lambda diff: diff.days)"
   ]
  },
  {
   "cell_type": "markdown",
   "metadata": {},
   "source": [
    "### Анализ данных"
   ]
  },
  {
   "cell_type": "code",
   "execution_count": 36,
   "metadata": {},
   "outputs": [
    {
     "name": "stdout",
     "output_type": "stream",
     "text": [
      "<class 'pandas.core.frame.DataFrame'>\n",
      "Index: 6799 entries, 5575-GNVDE to 3186-AJIEK\n",
      "Data columns (total 21 columns):\n",
      " #   Column             Non-Null Count  Dtype         \n",
      "---  ------             --------------  -----         \n",
      " 0   begin_date         6799 non-null   datetime64[ns]\n",
      " 1   end_date           6799 non-null   datetime64[ns]\n",
      " 2   type               6799 non-null   object        \n",
      " 3   paperless_billing  6799 non-null   object        \n",
      " 4   payment_method     6799 non-null   object        \n",
      " 5   monthly_charges    6799 non-null   float64       \n",
      " 6   total_charges      6799 non-null   float64       \n",
      " 7   gender             6799 non-null   object        \n",
      " 8   senior_citizen     6799 non-null   int64         \n",
      " 9   partner            6799 non-null   object        \n",
      " 10  dependents         6799 non-null   object        \n",
      " 11  internet_service   5387 non-null   object        \n",
      " 12  online_security    5387 non-null   object        \n",
      " 13  online_backup      5387 non-null   object        \n",
      " 14  device_protection  5387 non-null   object        \n",
      " 15  tech_support       5387 non-null   object        \n",
      " 16  streaming_tv       5387 non-null   object        \n",
      " 17  streaming_movies   5387 non-null   object        \n",
      " 18  multiple_lines     6138 non-null   object        \n",
      " 19  exited             6799 non-null   int64         \n",
      " 20  contract_duration  6799 non-null   int64         \n",
      "dtypes: datetime64[ns](2), float64(2), int64(3), object(14)\n",
      "memory usage: 1.4+ MB\n"
     ]
    }
   ],
   "source": [
    "df.info()"
   ]
  },
  {
   "cell_type": "code",
   "execution_count": 37,
   "metadata": {},
   "outputs": [
    {
     "data": {
      "application/vnd.jupyter.widget-view+json": {
       "model_id": "bf61e104b6b54a8f9c85416b2d16c0dd",
       "version_major": 2,
       "version_minor": 0
      },
      "text/plain": [
       "Summarize dataset:   0%|          | 0/5 [00:00<?, ?it/s]"
      ]
     },
     "metadata": {},
     "output_type": "display_data"
    },
    {
     "data": {
      "application/vnd.jupyter.widget-view+json": {
       "model_id": "ef3da8c4d08d4d51ba280ed9ca125820",
       "version_major": 2,
       "version_minor": 0
      },
      "text/plain": [
       "Generate report structure:   0%|          | 0/1 [00:00<?, ?it/s]"
      ]
     },
     "metadata": {},
     "output_type": "display_data"
    },
    {
     "data": {
      "application/vnd.jupyter.widget-view+json": {
       "model_id": "",
       "version_major": 2,
       "version_minor": 0
      },
      "text/plain": [
       "Render widgets:   0%|          | 0/1 [00:00<?, ?it/s]"
      ]
     },
     "metadata": {},
     "output_type": "display_data"
    },
    {
     "data": {
      "application/vnd.jupyter.widget-view+json": {
       "model_id": "af05a6cfd797449e85095b56b0894b87",
       "version_major": 2,
       "version_minor": 0
      },
      "text/plain": [
       "VBox(children=(Tab(children=(Tab(children=(GridBox(children=(VBox(children=(GridspecLayout(children=(HTML(valu…"
      ]
     },
     "metadata": {},
     "output_type": "display_data"
    }
   ],
   "source": [
    "ProfileReport(df).to_widgets()"
   ]
  },
  {
   "cell_type": "markdown",
   "metadata": {},
   "source": [
    "Запорним пропуски в данных об интернет услугах и услугах телефонии. Скорее всего они связаны с отсутвием у клиента самого интернета или телефонии. Заменим данные пропуски на значения `No internet` и `No phone`."
   ]
  },
  {
   "cell_type": "code",
   "execution_count": 38,
   "metadata": {},
   "outputs": [],
   "source": [
    "df[internet.columns] = df[internet.columns].fillna('No internet')\n",
    "df[phone.columns] = df[phone.columns].fillna('No phone')"
   ]
  },
  {
   "cell_type": "code",
   "execution_count": 39,
   "metadata": {},
   "outputs": [
    {
     "name": "stdout",
     "output_type": "stream",
     "text": [
      "<class 'pandas.core.frame.DataFrame'>\n",
      "Index: 6799 entries, 5575-GNVDE to 3186-AJIEK\n",
      "Data columns (total 21 columns):\n",
      " #   Column             Non-Null Count  Dtype         \n",
      "---  ------             --------------  -----         \n",
      " 0   begin_date         6799 non-null   datetime64[ns]\n",
      " 1   end_date           6799 non-null   datetime64[ns]\n",
      " 2   type               6799 non-null   object        \n",
      " 3   paperless_billing  6799 non-null   object        \n",
      " 4   payment_method     6799 non-null   object        \n",
      " 5   monthly_charges    6799 non-null   float64       \n",
      " 6   total_charges      6799 non-null   float64       \n",
      " 7   gender             6799 non-null   object        \n",
      " 8   senior_citizen     6799 non-null   int64         \n",
      " 9   partner            6799 non-null   object        \n",
      " 10  dependents         6799 non-null   object        \n",
      " 11  internet_service   6799 non-null   object        \n",
      " 12  online_security    6799 non-null   object        \n",
      " 13  online_backup      6799 non-null   object        \n",
      " 14  device_protection  6799 non-null   object        \n",
      " 15  tech_support       6799 non-null   object        \n",
      " 16  streaming_tv       6799 non-null   object        \n",
      " 17  streaming_movies   6799 non-null   object        \n",
      " 18  multiple_lines     6799 non-null   object        \n",
      " 19  exited             6799 non-null   int64         \n",
      " 20  contract_duration  6799 non-null   int64         \n",
      "dtypes: datetime64[ns](2), float64(2), int64(3), object(14)\n",
      "memory usage: 1.4+ MB\n"
     ]
    }
   ],
   "source": [
    "# Проверим результат заполнения пропусков\n",
    "df.info()"
   ]
  },
  {
   "cell_type": "markdown",
   "metadata": {},
   "source": [
    "<div class=\"alert alert-success\">\n",
    "<b>Комментарий ревьюера:\n",
    "&#9989;</b> Отличное решение!</div>"
   ]
  },
  {
   "cell_type": "markdown",
   "metadata": {},
   "source": [
    "### Распределение признаков"
   ]
  },
  {
   "cell_type": "code",
   "execution_count": 40,
   "metadata": {},
   "outputs": [],
   "source": [
    "def plot_feature(feature, name):\n",
    "    fig, axes = plt.subplots(1, 2, figsize=(16, 8))\n",
    "    fig.suptitle(name, fontsize=16)\n",
    "    axes[0].grid()\n",
    "    axes[0].set_title(f'Диаграмма размаха')\n",
    "    sns.boxplot(ax=axes[0], data=df[feature]).set(\n",
    "        xlabel=name, \n",
    "        ylabel='Сумма'\n",
    "    );\n",
    "\n",
    "    # Здадаим параметры графика\n",
    "    axes[1].set_title('Плотность распределения')\n",
    "    axes[1].grid()\n",
    "    sns.histplot(data=df[df['exited'] == 0][feature], ax=axes[1], color='orange').set(\n",
    "        xlabel=name, \n",
    "        ylabel='Частота'\n",
    "    )\n",
    "    sns.histplot(data=df[df['exited'] == 1][feature], ax=axes[1]).set(\n",
    "        xlabel=name, \n",
    "        ylabel='Частота'\n",
    "    )\n",
    "    axes[1].legend(labels=['Действующие клиенты', 'Клиенты которые ушли'])"
   ]
  },
  {
   "cell_type": "code",
   "execution_count": 41,
   "metadata": {},
   "outputs": [
    {
     "data": {
      "image/png": "[encoded data removed]",
      "text/plain": [
       "<Figure size 1152x576 with 2 Axes>"
      ]
     },
     "metadata": {
      "needs_background": "light"
     },
     "output_type": "display_data"
    }
   ],
   "source": [
    "plot_feature('monthly_charges', 'Ежемесяцные траты на услуги')"
   ]
  },
  {
   "cell_type": "code",
   "execution_count": 42,
   "metadata": {},
   "outputs": [
    {
     "data": {
      "image/png": "[encoded data removed]",
      "text/plain": [
       "<Figure size 1152x576 with 2 Axes>"
      ]
     },
     "metadata": {
      "needs_background": "light"
     },
     "output_type": "display_data"
    }
   ],
   "source": [
    "plot_feature('total_charges', 'Всего потрачено на услуги')"
   ]
  },
  {
   "cell_type": "markdown",
   "metadata": {},
   "source": [
    "Распределение признаков нормальное, но есть вплески на минимальных значениях, что говорит о том, что много пользователей стараются сэкономить на тратах на услуги."
   ]
  },
  {
   "cell_type": "code",
   "execution_count": 43,
   "metadata": {},
   "outputs": [
    {
     "data": {
      "image/png": "[encoded data removed]",
      "text/plain": [
       "<Figure size 1152x576 with 2 Axes>"
      ]
     },
     "metadata": {
      "needs_background": "light"
     },
     "output_type": "display_data"
    }
   ],
   "source": [
    "plot_feature('contract_duration', 'Длительность контракта')"
   ]
  },
  {
   "cell_type": "markdown",
   "metadata": {},
   "source": [
    "Из графиков видно, что выбросов нет, данные распределены нормально, есть много новых клиентов."
   ]
  },
  {
   "cell_type": "markdown",
   "metadata": {},
   "source": [
    "### Анализ признаков на мультиколлинеарность"
   ]
  },
  {
   "cell_type": "code",
   "execution_count": 44,
   "metadata": {},
   "outputs": [],
   "source": [
    "corr_matrix = df.phik_matrix(interval_cols = ['monthly_charges', 'total_charges', 'contact_duration', 'exited'])"
   ]
  },
  {
   "cell_type": "code",
   "execution_count": 45,
   "metadata": {},
   "outputs": [
    {
     "data": {
      "text/html": [
       "<style  type=\"text/css\" >\n",
       "#T_f0c2c_row0_col0,#T_f0c2c_row0_col20,#T_f0c2c_row1_col1,#T_f0c2c_row1_col19,#T_f0c2c_row2_col2,#T_f0c2c_row3_col3,#T_f0c2c_row4_col4,#T_f0c2c_row5_col5,#T_f0c2c_row6_col6,#T_f0c2c_row7_col7,#T_f0c2c_row8_col8,#T_f0c2c_row9_col9,#T_f0c2c_row10_col10,#T_f0c2c_row11_col11,#T_f0c2c_row12_col12,#T_f0c2c_row13_col13,#T_f0c2c_row14_col14,#T_f0c2c_row15_col15,#T_f0c2c_row16_col16,#T_f0c2c_row17_col17,#T_f0c2c_row18_col18,#T_f0c2c_row19_col1,#T_f0c2c_row19_col19,#T_f0c2c_row20_col0,#T_f0c2c_row20_col20{\n",
       "            background-color:  #008000;\n",
       "            color:  #f1f1f1;\n",
       "        }#T_f0c2c_row0_col1,#T_f0c2c_row12_col18,#T_f0c2c_row15_col18,#T_f0c2c_row18_col12,#T_f0c2c_row18_col15{\n",
       "            background-color:  #6db66d;\n",
       "            color:  #000000;\n",
       "        }#T_f0c2c_row0_col2,#T_f0c2c_row0_col6,#T_f0c2c_row2_col0,#T_f0c2c_row6_col0{\n",
       "            background-color:  #349a34;\n",
       "            color:  #000000;\n",
       "        }#T_f0c2c_row0_col3,#T_f0c2c_row0_col7,#T_f0c2c_row0_col8,#T_f0c2c_row0_col11,#T_f0c2c_row2_col7,#T_f0c2c_row3_col0,#T_f0c2c_row3_col7,#T_f0c2c_row3_col20,#T_f0c2c_row4_col7,#T_f0c2c_row5_col7,#T_f0c2c_row6_col7,#T_f0c2c_row7_col0,#T_f0c2c_row7_col1,#T_f0c2c_row7_col2,#T_f0c2c_row7_col3,#T_f0c2c_row7_col4,#T_f0c2c_row7_col5,#T_f0c2c_row7_col6,#T_f0c2c_row7_col8,#T_f0c2c_row7_col9,#T_f0c2c_row7_col10,#T_f0c2c_row7_col11,#T_f0c2c_row7_col12,#T_f0c2c_row7_col13,#T_f0c2c_row7_col14,#T_f0c2c_row7_col15,#T_f0c2c_row7_col16,#T_f0c2c_row7_col17,#T_f0c2c_row7_col18,#T_f0c2c_row7_col19,#T_f0c2c_row7_col20,#T_f0c2c_row8_col0,#T_f0c2c_row8_col7,#T_f0c2c_row8_col9,#T_f0c2c_row9_col7,#T_f0c2c_row9_col8,#T_f0c2c_row9_col11,#T_f0c2c_row10_col7,#T_f0c2c_row11_col0,#T_f0c2c_row11_col7,#T_f0c2c_row11_col9,#T_f0c2c_row12_col7,#T_f0c2c_row13_col7,#T_f0c2c_row14_col7,#T_f0c2c_row15_col7,#T_f0c2c_row16_col7,#T_f0c2c_row17_col7,#T_f0c2c_row18_col7,#T_f0c2c_row20_col3,#T_f0c2c_row20_col7{\n",
       "            background-color:  #ebf3eb;\n",
       "            color:  #000000;\n",
       "        }#T_f0c2c_row0_col4,#T_f0c2c_row4_col0{\n",
       "            background-color:  #84c184;\n",
       "            color:  #000000;\n",
       "        }#T_f0c2c_row0_col5,#T_f0c2c_row2_col5,#T_f0c2c_row5_col0,#T_f0c2c_row5_col2,#T_f0c2c_row5_col20,#T_f0c2c_row20_col5{\n",
       "            background-color:  #8dc58d;\n",
       "            color:  #000000;\n",
       "        }#T_f0c2c_row0_col9,#T_f0c2c_row9_col0{\n",
       "            background-color:  #80bf80;\n",
       "            color:  #000000;\n",
       "        }#T_f0c2c_row0_col10,#T_f0c2c_row3_col6,#T_f0c2c_row3_col13,#T_f0c2c_row3_col14,#T_f0c2c_row6_col3,#T_f0c2c_row10_col0,#T_f0c2c_row13_col3,#T_f0c2c_row14_col3{\n",
       "            background-color:  #bdddbd;\n",
       "            color:  #000000;\n",
       "        }#T_f0c2c_row0_col12,#T_f0c2c_row12_col0{\n",
       "            background-color:  #81bf81;\n",
       "            color:  #000000;\n",
       "        }#T_f0c2c_row0_col13,#T_f0c2c_row6_col11,#T_f0c2c_row11_col6,#T_f0c2c_row13_col0{\n",
       "            background-color:  #78bb78;\n",
       "            color:  #000000;\n",
       "        }#T_f0c2c_row0_col14,#T_f0c2c_row14_col0{\n",
       "            background-color:  #77ba77;\n",
       "            color:  #000000;\n",
       "        }#T_f0c2c_row0_col15,#T_f0c2c_row12_col20,#T_f0c2c_row15_col0,#T_f0c2c_row18_col20,#T_f0c2c_row20_col12,#T_f0c2c_row20_col18{\n",
       "            background-color:  #82c082;\n",
       "            color:  #000000;\n",
       "        }#T_f0c2c_row0_col16,#T_f0c2c_row16_col0{\n",
       "            background-color:  #8ec58e;\n",
       "            color:  #000000;\n",
       "        }#T_f0c2c_row0_col17,#T_f0c2c_row17_col0,#T_f0c2c_row17_col20,#T_f0c2c_row20_col17{\n",
       "            background-color:  #8ac48a;\n",
       "            color:  #000000;\n",
       "        }#T_f0c2c_row0_col18,#T_f0c2c_row2_col6,#T_f0c2c_row3_col5,#T_f0c2c_row5_col3,#T_f0c2c_row6_col2,#T_f0c2c_row6_col18,#T_f0c2c_row18_col0,#T_f0c2c_row18_col6{\n",
       "            background-color:  #7fbe7f;\n",
       "            color:  #000000;\n",
       "        }#T_f0c2c_row0_col19{\n",
       "            background-color:  #85c185;\n",
       "            color:  #000000;\n",
       "        }#T_f0c2c_row1_col0{\n",
       "            background-color:  #6cb56c;\n",
       "            color:  #000000;\n",
       "        }#T_f0c2c_row1_col2,#T_f0c2c_row4_col16,#T_f0c2c_row16_col4{\n",
       "            background-color:  #aad3aa;\n",
       "            color:  #000000;\n",
       "        }#T_f0c2c_row1_col3,#T_f0c2c_row16_col19{\n",
       "            background-color:  #deedde;\n",
       "            color:  #000000;\n",
       "        }#T_f0c2c_row1_col4,#T_f0c2c_row1_col12,#T_f0c2c_row8_col11,#T_f0c2c_row11_col8{\n",
       "            background-color:  #c6e1c6;\n",
       "            color:  #000000;\n",
       "        }#T_f0c2c_row1_col5{\n",
       "            background-color:  #c5e0c5;\n",
       "            color:  #000000;\n",
       "        }#T_f0c2c_row1_col6,#T_f0c2c_row9_col19{\n",
       "            background-color:  #bbdcbb;\n",
       "            color:  #000000;\n",
       "        }#T_f0c2c_row1_col7{\n",
       "            background-color:  #e6f1e6;\n",
       "            color:  #000000;\n",
       "        }#T_f0c2c_row1_col8,#T_f0c2c_row8_col18,#T_f0c2c_row11_col1,#T_f0c2c_row18_col8,#T_f0c2c_row19_col13{\n",
       "            background-color:  #d7e9d7;\n",
       "            color:  #000000;\n",
       "        }#T_f0c2c_row1_col9,#T_f0c2c_row2_col9,#T_f0c2c_row9_col2,#T_f0c2c_row17_col1{\n",
       "            background-color:  #c3e0c3;\n",
       "            color:  #000000;\n",
       "        }#T_f0c2c_row1_col10,#T_f0c2c_row19_col11,#T_f0c2c_row19_col12{\n",
       "            background-color:  #dfeddf;\n",
       "            color:  #000000;\n",
       "        }#T_f0c2c_row1_col11{\n",
       "            background-color:  #d3e7d3;\n",
       "            color:  #000000;\n",
       "        }#T_f0c2c_row1_col13,#T_f0c2c_row3_col11,#T_f0c2c_row4_col9,#T_f0c2c_row9_col4,#T_f0c2c_row11_col3{\n",
       "            background-color:  #b5d9b5;\n",
       "            color:  #000000;\n",
       "        }#T_f0c2c_row1_col14,#T_f0c2c_row2_col18,#T_f0c2c_row18_col2,#T_f0c2c_row19_col9{\n",
       "            background-color:  #b8dab8;\n",
       "            color:  #000000;\n",
       "        }#T_f0c2c_row1_col15,#T_f0c2c_row4_col1,#T_f0c2c_row5_col1{\n",
       "            background-color:  #c9e3c9;\n",
       "            color:  #000000;\n",
       "        }#T_f0c2c_row1_col16{\n",
       "            background-color:  #c2dfc2;\n",
       "            color:  #000000;\n",
       "        }#T_f0c2c_row1_col17,#T_f0c2c_row6_col1{\n",
       "            background-color:  #bfdebf;\n",
       "            color:  #000000;\n",
       "        }#T_f0c2c_row1_col18,#T_f0c2c_row3_col8,#T_f0c2c_row8_col3{\n",
       "            background-color:  #b2d7b2;\n",
       "            color:  #000000;\n",
       "        }#T_f0c2c_row1_col20,#T_f0c2c_row20_col1{\n",
       "            background-color:  #048204;\n",
       "            color:  #f1f1f1;\n",
       "        }#T_f0c2c_row2_col1{\n",
       "            background-color:  #aed5ae;\n",
       "            color:  #000000;\n",
       "        }#T_f0c2c_row2_col3,#T_f0c2c_row3_col2{\n",
       "            background-color:  #d0e6d0;\n",
       "            color:  #000000;\n",
       "        }#T_f0c2c_row2_col4,#T_f0c2c_row4_col2,#T_f0c2c_row4_col17,#T_f0c2c_row17_col4{\n",
       "            background-color:  #a9d3a9;\n",
       "            color:  #000000;\n",
       "        }#T_f0c2c_row2_col8,#T_f0c2c_row8_col2,#T_f0c2c_row10_col16,#T_f0c2c_row16_col10{\n",
       "            background-color:  #d5e9d5;\n",
       "            color:  #000000;\n",
       "        }#T_f0c2c_row2_col10,#T_f0c2c_row10_col2{\n",
       "            background-color:  #c9e2c8;\n",
       "            color:  #000000;\n",
       "        }#T_f0c2c_row2_col11,#T_f0c2c_row11_col2{\n",
       "            background-color:  #6db56d;\n",
       "            color:  #000000;\n",
       "        }#T_f0c2c_row2_col12,#T_f0c2c_row9_col10,#T_f0c2c_row10_col9,#T_f0c2c_row12_col2{\n",
       "            background-color:  #52a852;\n",
       "            color:  #000000;\n",
       "        }#T_f0c2c_row2_col13,#T_f0c2c_row13_col2{\n",
       "            background-color:  #5fae5f;\n",
       "            color:  #000000;\n",
       "        }#T_f0c2c_row2_col14,#T_f0c2c_row14_col2{\n",
       "            background-color:  #54a954;\n",
       "            color:  #000000;\n",
       "        }#T_f0c2c_row2_col15,#T_f0c2c_row15_col2{\n",
       "            background-color:  #4ba54a;\n",
       "            color:  #000000;\n",
       "        }#T_f0c2c_row2_col16,#T_f0c2c_row16_col2{\n",
       "            background-color:  #66b266;\n",
       "            color:  #000000;\n",
       "        }#T_f0c2c_row2_col17,#T_f0c2c_row17_col2{\n",
       "            background-color:  #65b265;\n",
       "            color:  #000000;\n",
       "        }#T_f0c2c_row2_col19,#T_f0c2c_row6_col10,#T_f0c2c_row9_col15,#T_f0c2c_row9_col16,#T_f0c2c_row10_col6,#T_f0c2c_row15_col9,#T_f0c2c_row16_col9,#T_f0c2c_row19_col3{\n",
       "            background-color:  #d9ead9;\n",
       "            color:  #000000;\n",
       "        }#T_f0c2c_row2_col20,#T_f0c2c_row20_col2{\n",
       "            background-color:  #399c39;\n",
       "            color:  #000000;\n",
       "        }#T_f0c2c_row3_col1,#T_f0c2c_row11_col19{\n",
       "            background-color:  #e2efe2;\n",
       "            color:  #000000;\n",
       "        }#T_f0c2c_row3_col4,#T_f0c2c_row4_col3{\n",
       "            background-color:  #94c994;\n",
       "            color:  #000000;\n",
       "        }#T_f0c2c_row3_col9,#T_f0c2c_row9_col3,#T_f0c2c_row10_col1,#T_f0c2c_row15_col19{\n",
       "            background-color:  #e3efe3;\n",
       "            color:  #000000;\n",
       "        }#T_f0c2c_row3_col10,#T_f0c2c_row10_col3{\n",
       "            background-color:  #c0dec0;\n",
       "            color:  #000000;\n",
       "        }#T_f0c2c_row3_col12,#T_f0c2c_row10_col20,#T_f0c2c_row12_col3,#T_f0c2c_row20_col10{\n",
       "            background-color:  #badbba;\n",
       "            color:  #000000;\n",
       "        }#T_f0c2c_row3_col15,#T_f0c2c_row14_col1,#T_f0c2c_row15_col3{\n",
       "            background-color:  #bddcbd;\n",
       "            color:  #000000;\n",
       "        }#T_f0c2c_row3_col16,#T_f0c2c_row3_col17,#T_f0c2c_row5_col19,#T_f0c2c_row16_col3,#T_f0c2c_row17_col3,#T_f0c2c_row19_col4{\n",
       "            background-color:  #bcdcbc;\n",
       "            color:  #000000;\n",
       "        }#T_f0c2c_row3_col18,#T_f0c2c_row9_col14,#T_f0c2c_row10_col13,#T_f0c2c_row10_col14,#T_f0c2c_row11_col20,#T_f0c2c_row13_col10,#T_f0c2c_row14_col9,#T_f0c2c_row14_col10,#T_f0c2c_row18_col3,#T_f0c2c_row19_col18,#T_f0c2c_row20_col11{\n",
       "            background-color:  #d4e8d4;\n",
       "            color:  #000000;\n",
       "        }#T_f0c2c_row3_col19{\n",
       "            background-color:  #ddecdd;\n",
       "            color:  #000000;\n",
       "        }#T_f0c2c_row4_col5,#T_f0c2c_row5_col4,#T_f0c2c_row16_col20,#T_f0c2c_row20_col16{\n",
       "            background-color:  #8fc68f;\n",
       "            color:  #000000;\n",
       "        }#T_f0c2c_row4_col6,#T_f0c2c_row6_col4{\n",
       "            background-color:  #9fce9f;\n",
       "            color:  #000000;\n",
       "        }#T_f0c2c_row4_col8,#T_f0c2c_row4_col13,#T_f0c2c_row8_col4,#T_f0c2c_row13_col4{\n",
       "            background-color:  #a7d2a7;\n",
       "            color:  #000000;\n",
       "        }#T_f0c2c_row4_col10,#T_f0c2c_row10_col4{\n",
       "            background-color:  #b4d8b4;\n",
       "            color:  #000000;\n",
       "        }#T_f0c2c_row4_col11,#T_f0c2c_row11_col4{\n",
       "            background-color:  #a0cea0;\n",
       "            color:  #000000;\n",
       "        }#T_f0c2c_row4_col12,#T_f0c2c_row12_col4{\n",
       "            background-color:  #a2cfa2;\n",
       "            color:  #000000;\n",
       "        }#T_f0c2c_row4_col14,#T_f0c2c_row14_col4{\n",
       "            background-color:  #a6d2a6;\n",
       "            color:  #000000;\n",
       "        }#T_f0c2c_row4_col15,#T_f0c2c_row15_col4{\n",
       "            background-color:  #a1cfa1;\n",
       "            color:  #000000;\n",
       "        }#T_f0c2c_row4_col18,#T_f0c2c_row18_col4{\n",
       "            background-color:  #c4e0c4;\n",
       "            color:  #000000;\n",
       "        }#T_f0c2c_row4_col19,#T_f0c2c_row5_col9,#T_f0c2c_row5_col10,#T_f0c2c_row9_col5,#T_f0c2c_row10_col5{\n",
       "            background-color:  #beddbe;\n",
       "            color:  #000000;\n",
       "        }#T_f0c2c_row4_col20,#T_f0c2c_row9_col20,#T_f0c2c_row20_col4,#T_f0c2c_row20_col9{\n",
       "            background-color:  #83c083;\n",
       "            color:  #000000;\n",
       "        }#T_f0c2c_row5_col6,#T_f0c2c_row6_col5{\n",
       "            background-color:  #44a144;\n",
       "            color:  #000000;\n",
       "        }#T_f0c2c_row5_col8,#T_f0c2c_row8_col5,#T_f0c2c_row19_col6{\n",
       "            background-color:  #a6d1a6;\n",
       "            color:  #000000;\n",
       "        }#T_f0c2c_row5_col11,#T_f0c2c_row11_col5{\n",
       "            background-color:  #128912;\n",
       "            color:  #f1f1f1;\n",
       "        }#T_f0c2c_row5_col12,#T_f0c2c_row12_col5{\n",
       "            background-color:  #2b952b;\n",
       "            color:  #000000;\n",
       "        }#T_f0c2c_row5_col13,#T_f0c2c_row5_col15,#T_f0c2c_row13_col5,#T_f0c2c_row15_col5{\n",
       "            background-color:  #2a952a;\n",
       "            color:  #000000;\n",
       "        }#T_f0c2c_row5_col14,#T_f0c2c_row14_col5{\n",
       "            background-color:  #289428;\n",
       "            color:  #000000;\n",
       "        }#T_f0c2c_row5_col16,#T_f0c2c_row5_col17,#T_f0c2c_row16_col5,#T_f0c2c_row17_col5{\n",
       "            background-color:  #1f8f1f;\n",
       "            color:  #000000;\n",
       "        }#T_f0c2c_row5_col18,#T_f0c2c_row18_col5{\n",
       "            background-color:  #43a143;\n",
       "            color:  #000000;\n",
       "        }#T_f0c2c_row6_col8,#T_f0c2c_row8_col6,#T_f0c2c_row8_col12,#T_f0c2c_row12_col8{\n",
       "            background-color:  #cde5cd;\n",
       "            color:  #000000;\n",
       "        }#T_f0c2c_row6_col9,#T_f0c2c_row9_col6{\n",
       "            background-color:  #96c996;\n",
       "            color:  #000000;\n",
       "        }#T_f0c2c_row6_col12,#T_f0c2c_row12_col6{\n",
       "            background-color:  #72b872;\n",
       "            color:  #000000;\n",
       "        }#T_f0c2c_row6_col13,#T_f0c2c_row13_col6{\n",
       "            background-color:  #6ab46a;\n",
       "            color:  #000000;\n",
       "        }#T_f0c2c_row6_col14,#T_f0c2c_row14_col6{\n",
       "            background-color:  #68b368;\n",
       "            color:  #000000;\n",
       "        }#T_f0c2c_row6_col15,#T_f0c2c_row15_col6{\n",
       "            background-color:  #6fb76f;\n",
       "            color:  #000000;\n",
       "        }#T_f0c2c_row6_col16,#T_f0c2c_row6_col17,#T_f0c2c_row13_col18,#T_f0c2c_row14_col18,#T_f0c2c_row16_col6,#T_f0c2c_row17_col6,#T_f0c2c_row18_col13,#T_f0c2c_row18_col14{\n",
       "            background-color:  #69b369;\n",
       "            color:  #000000;\n",
       "        }#T_f0c2c_row6_col19{\n",
       "            background-color:  #a8d2a8;\n",
       "            color:  #000000;\n",
       "        }#T_f0c2c_row6_col20,#T_f0c2c_row20_col6{\n",
       "            background-color:  #279327;\n",
       "            color:  #000000;\n",
       "        }#T_f0c2c_row8_col1,#T_f0c2c_row8_col19,#T_f0c2c_row14_col19{\n",
       "            background-color:  #dcecdc;\n",
       "            color:  #000000;\n",
       "        }#T_f0c2c_row8_col10,#T_f0c2c_row10_col8{\n",
       "            background-color:  #9dcd9d;\n",
       "            color:  #000000;\n",
       "        }#T_f0c2c_row8_col13,#T_f0c2c_row8_col14,#T_f0c2c_row8_col16,#T_f0c2c_row13_col8,#T_f0c2c_row14_col8,#T_f0c2c_row16_col8{\n",
       "            background-color:  #d2e7d2;\n",
       "            color:  #000000;\n",
       "        }#T_f0c2c_row8_col15,#T_f0c2c_row15_col8{\n",
       "            background-color:  #cbe4cb;\n",
       "            color:  #000000;\n",
       "        }#T_f0c2c_row8_col17,#T_f0c2c_row10_col11,#T_f0c2c_row10_col15,#T_f0c2c_row11_col10,#T_f0c2c_row15_col10,#T_f0c2c_row17_col8{\n",
       "            background-color:  #d1e6d1;\n",
       "            color:  #000000;\n",
       "        }#T_f0c2c_row8_col20,#T_f0c2c_row10_col12,#T_f0c2c_row12_col10,#T_f0c2c_row20_col8{\n",
       "            background-color:  #cfe5cf;\n",
       "            color:  #000000;\n",
       "        }#T_f0c2c_row9_col1{\n",
       "            background-color:  #c8e2c8;\n",
       "            color:  #000000;\n",
       "        }#T_f0c2c_row9_col12,#T_f0c2c_row9_col13,#T_f0c2c_row10_col17,#T_f0c2c_row12_col9,#T_f0c2c_row13_col9,#T_f0c2c_row17_col10,#T_f0c2c_row18_col19,#T_f0c2c_row19_col2{\n",
       "            background-color:  #d6e9d6;\n",
       "            color:  #000000;\n",
       "        }#T_f0c2c_row9_col17,#T_f0c2c_row13_col19,#T_f0c2c_row17_col9,#T_f0c2c_row19_col16{\n",
       "            background-color:  #daebda;\n",
       "            color:  #000000;\n",
       "        }#T_f0c2c_row9_col18,#T_f0c2c_row18_col9,#T_f0c2c_row19_col8,#T_f0c2c_row19_col14,#T_f0c2c_row19_col17{\n",
       "            background-color:  #d8ead8;\n",
       "            color:  #000000;\n",
       "        }#T_f0c2c_row10_col18,#T_f0c2c_row18_col10,#T_f0c2c_row19_col7{\n",
       "            background-color:  #e7f1e7;\n",
       "            color:  #000000;\n",
       "        }#T_f0c2c_row10_col19{\n",
       "            background-color:  #e4f0e4;\n",
       "            color:  #000000;\n",
       "        }#T_f0c2c_row11_col12,#T_f0c2c_row11_col15,#T_f0c2c_row12_col11,#T_f0c2c_row12_col15,#T_f0c2c_row14_col15,#T_f0c2c_row14_col16,#T_f0c2c_row15_col11,#T_f0c2c_row15_col12,#T_f0c2c_row15_col14,#T_f0c2c_row16_col14{\n",
       "            background-color:  #0b850b;\n",
       "            color:  #f1f1f1;\n",
       "        }#T_f0c2c_row11_col13,#T_f0c2c_row11_col14,#T_f0c2c_row12_col16,#T_f0c2c_row12_col17,#T_f0c2c_row13_col11,#T_f0c2c_row13_col17,#T_f0c2c_row14_col11,#T_f0c2c_row16_col12,#T_f0c2c_row17_col12,#T_f0c2c_row17_col13{\n",
       "            background-color:  #0d860d;\n",
       "            color:  #f1f1f1;\n",
       "        }#T_f0c2c_row11_col16,#T_f0c2c_row11_col17,#T_f0c2c_row12_col13,#T_f0c2c_row12_col14,#T_f0c2c_row13_col12,#T_f0c2c_row13_col14,#T_f0c2c_row13_col15,#T_f0c2c_row13_col16,#T_f0c2c_row14_col12,#T_f0c2c_row14_col13,#T_f0c2c_row15_col13,#T_f0c2c_row15_col16,#T_f0c2c_row15_col17,#T_f0c2c_row16_col11,#T_f0c2c_row16_col13,#T_f0c2c_row16_col15,#T_f0c2c_row17_col11,#T_f0c2c_row17_col15{\n",
       "            background-color:  #0c860c;\n",
       "            color:  #f1f1f1;\n",
       "        }#T_f0c2c_row11_col18,#T_f0c2c_row18_col11{\n",
       "            background-color:  #3e9e3e;\n",
       "            color:  #000000;\n",
       "        }#T_f0c2c_row12_col1{\n",
       "            background-color:  #cae3ca;\n",
       "            color:  #000000;\n",
       "        }#T_f0c2c_row12_col19{\n",
       "            background-color:  #e1eee1;\n",
       "            color:  #000000;\n",
       "        }#T_f0c2c_row13_col1,#T_f0c2c_row19_col5{\n",
       "            background-color:  #b9dbb9;\n",
       "            color:  #000000;\n",
       "        }#T_f0c2c_row13_col20,#T_f0c2c_row20_col13{\n",
       "            background-color:  #7cbd7c;\n",
       "            color:  #000000;\n",
       "        }#T_f0c2c_row14_col17,#T_f0c2c_row17_col14{\n",
       "            background-color:  #0a850a;\n",
       "            color:  #f1f1f1;\n",
       "        }#T_f0c2c_row14_col20,#T_f0c2c_row20_col14{\n",
       "            background-color:  #79bc79;\n",
       "            color:  #000000;\n",
       "        }#T_f0c2c_row15_col1{\n",
       "            background-color:  #cee5ce;\n",
       "            color:  #000000;\n",
       "        }#T_f0c2c_row15_col20,#T_f0c2c_row19_col0,#T_f0c2c_row20_col15{\n",
       "            background-color:  #84c084;\n",
       "            color:  #000000;\n",
       "        }#T_f0c2c_row16_col1{\n",
       "            background-color:  #c7e1c7;\n",
       "            color:  #000000;\n",
       "        }#T_f0c2c_row16_col17,#T_f0c2c_row17_col16{\n",
       "            background-color:  #088408;\n",
       "            color:  #f1f1f1;\n",
       "        }#T_f0c2c_row16_col18,#T_f0c2c_row17_col18,#T_f0c2c_row18_col16,#T_f0c2c_row18_col17{\n",
       "            background-color:  #63b163;\n",
       "            color:  #000000;\n",
       "        }#T_f0c2c_row17_col19{\n",
       "            background-color:  #dbebdb;\n",
       "            color:  #000000;\n",
       "        }#T_f0c2c_row18_col1{\n",
       "            background-color:  #b7dab7;\n",
       "            color:  #000000;\n",
       "        }#T_f0c2c_row19_col10,#T_f0c2c_row19_col15{\n",
       "            background-color:  #e0eee0;\n",
       "            color:  #000000;\n",
       "        }#T_f0c2c_row19_col20,#T_f0c2c_row20_col19{\n",
       "            background-color:  #108810;\n",
       "            color:  #f1f1f1;\n",
       "        }</style><table id=\"T_f0c2c_\" ><thead>    <tr>        <th class=\"blank level0\" ></th>        <th class=\"col_heading level0 col0\" >begin_date</th>        <th class=\"col_heading level0 col1\" >end_date</th>        <th class=\"col_heading level0 col2\" >type</th>        <th class=\"col_heading level0 col3\" >paperless_billing</th>        <th class=\"col_heading level0 col4\" >payment_method</th>        <th class=\"col_heading level0 col5\" >monthly_charges</th>        <th class=\"col_heading level0 col6\" >total_charges</th>        <th class=\"col_heading level0 col7\" >gender</th>        <th class=\"col_heading level0 col8\" >senior_citizen</th>        <th class=\"col_heading level0 col9\" >partner</th>        <th class=\"col_heading level0 col10\" >dependents</th>        <th class=\"col_heading level0 col11\" >internet_service</th>        <th class=\"col_heading level0 col12\" >online_security</th>        <th class=\"col_heading level0 col13\" >online_backup</th>        <th class=\"col_heading level0 col14\" >device_protection</th>        <th class=\"col_heading level0 col15\" >tech_support</th>        <th class=\"col_heading level0 col16\" >streaming_tv</th>        <th class=\"col_heading level0 col17\" >streaming_movies</th>        <th class=\"col_heading level0 col18\" >multiple_lines</th>        <th class=\"col_heading level0 col19\" >exited</th>        <th class=\"col_heading level0 col20\" >contract_duration</th>    </tr></thead><tbody>\n",
       "                <tr>\n",
       "                        <th id=\"T_f0c2c_level0_row0\" class=\"row_heading level0 row0\" >begin_date</th>\n",
       "                        <td id=\"T_f0c2c_row0_col0\" class=\"data row0 col0\" >1.00</td>\n",
       "                        <td id=\"T_f0c2c_row0_col1\" class=\"data row0 col1\" >0.54</td>\n",
       "                        <td id=\"T_f0c2c_row0_col2\" class=\"data row0 col2\" >0.78</td>\n",
       "                        <td id=\"T_f0c2c_row0_col3\" class=\"data row0 col3\" >0.00</td>\n",
       "                        <td id=\"T_f0c2c_row0_col4\" class=\"data row0 col4\" >0.43</td>\n",
       "                        <td id=\"T_f0c2c_row0_col5\" class=\"data row0 col5\" >0.40</td>\n",
       "                        <td id=\"T_f0c2c_row0_col6\" class=\"data row0 col6\" >0.77</td>\n",
       "                        <td id=\"T_f0c2c_row0_col7\" class=\"data row0 col7\" >0.00</td>\n",
       "                        <td id=\"T_f0c2c_row0_col8\" class=\"data row0 col8\" >0.00</td>\n",
       "                        <td id=\"T_f0c2c_row0_col9\" class=\"data row0 col9\" >0.45</td>\n",
       "                        <td id=\"T_f0c2c_row0_col10\" class=\"data row0 col10\" >0.19</td>\n",
       "                        <td id=\"T_f0c2c_row0_col11\" class=\"data row0 col11\" >0.00</td>\n",
       "                        <td id=\"T_f0c2c_row0_col12\" class=\"data row0 col12\" >0.45</td>\n",
       "                        <td id=\"T_f0c2c_row0_col13\" class=\"data row0 col13\" >0.49</td>\n",
       "                        <td id=\"T_f0c2c_row0_col14\" class=\"data row0 col14\" >0.49</td>\n",
       "                        <td id=\"T_f0c2c_row0_col15\" class=\"data row0 col15\" >0.45</td>\n",
       "                        <td id=\"T_f0c2c_row0_col16\" class=\"data row0 col16\" >0.39</td>\n",
       "                        <td id=\"T_f0c2c_row0_col17\" class=\"data row0 col17\" >0.41</td>\n",
       "                        <td id=\"T_f0c2c_row0_col18\" class=\"data row0 col18\" >0.46</td>\n",
       "                        <td id=\"T_f0c2c_row0_col19\" class=\"data row0 col19\" >0.44</td>\n",
       "                        <td id=\"T_f0c2c_row0_col20\" class=\"data row0 col20\" >1.00</td>\n",
       "            </tr>\n",
       "            <tr>\n",
       "                        <th id=\"T_f0c2c_level0_row1\" class=\"row_heading level0 row1\" >end_date</th>\n",
       "                        <td id=\"T_f0c2c_row1_col0\" class=\"data row1 col0\" >0.54</td>\n",
       "                        <td id=\"T_f0c2c_row1_col1\" class=\"data row1 col1\" >1.00</td>\n",
       "                        <td id=\"T_f0c2c_row1_col2\" class=\"data row1 col2\" >0.28</td>\n",
       "                        <td id=\"T_f0c2c_row1_col3\" class=\"data row1 col3\" >0.06</td>\n",
       "                        <td id=\"T_f0c2c_row1_col4\" class=\"data row1 col4\" >0.16</td>\n",
       "                        <td id=\"T_f0c2c_row1_col5\" class=\"data row1 col5\" >0.16</td>\n",
       "                        <td id=\"T_f0c2c_row1_col6\" class=\"data row1 col6\" >0.20</td>\n",
       "                        <td id=\"T_f0c2c_row1_col7\" class=\"data row1 col7\" >0.02</td>\n",
       "                        <td id=\"T_f0c2c_row1_col8\" class=\"data row1 col8\" >0.09</td>\n",
       "                        <td id=\"T_f0c2c_row1_col9\" class=\"data row1 col9\" >0.17</td>\n",
       "                        <td id=\"T_f0c2c_row1_col10\" class=\"data row1 col10\" >0.05</td>\n",
       "                        <td id=\"T_f0c2c_row1_col11\" class=\"data row1 col11\" >0.10</td>\n",
       "                        <td id=\"T_f0c2c_row1_col12\" class=\"data row1 col12\" >0.16</td>\n",
       "                        <td id=\"T_f0c2c_row1_col13\" class=\"data row1 col13\" >0.23</td>\n",
       "                        <td id=\"T_f0c2c_row1_col14\" class=\"data row1 col14\" >0.22</td>\n",
       "                        <td id=\"T_f0c2c_row1_col15\" class=\"data row1 col15\" >0.14</td>\n",
       "                        <td id=\"T_f0c2c_row1_col16\" class=\"data row1 col16\" >0.17</td>\n",
       "                        <td id=\"T_f0c2c_row1_col17\" class=\"data row1 col17\" >0.19</td>\n",
       "                        <td id=\"T_f0c2c_row1_col18\" class=\"data row1 col18\" >0.24</td>\n",
       "                        <td id=\"T_f0c2c_row1_col19\" class=\"data row1 col19\" >1.00</td>\n",
       "                        <td id=\"T_f0c2c_row1_col20\" class=\"data row1 col20\" >0.98</td>\n",
       "            </tr>\n",
       "            <tr>\n",
       "                        <th id=\"T_f0c2c_level0_row2\" class=\"row_heading level0 row2\" >type</th>\n",
       "                        <td id=\"T_f0c2c_row2_col0\" class=\"data row2 col0\" >0.78</td>\n",
       "                        <td id=\"T_f0c2c_row2_col1\" class=\"data row2 col1\" >0.28</td>\n",
       "                        <td id=\"T_f0c2c_row2_col2\" class=\"data row2 col2\" >1.00</td>\n",
       "                        <td id=\"T_f0c2c_row2_col3\" class=\"data row2 col3\" >0.12</td>\n",
       "                        <td id=\"T_f0c2c_row2_col4\" class=\"data row2 col4\" >0.28</td>\n",
       "                        <td id=\"T_f0c2c_row2_col5\" class=\"data row2 col5\" >0.40</td>\n",
       "                        <td id=\"T_f0c2c_row2_col6\" class=\"data row2 col6\" >0.46</td>\n",
       "                        <td id=\"T_f0c2c_row2_col7\" class=\"data row2 col7\" >0.00</td>\n",
       "                        <td id=\"T_f0c2c_row2_col8\" class=\"data row2 col8\" >0.09</td>\n",
       "                        <td id=\"T_f0c2c_row2_col9\" class=\"data row2 col9\" >0.17</td>\n",
       "                        <td id=\"T_f0c2c_row2_col10\" class=\"data row2 col10\" >0.14</td>\n",
       "                        <td id=\"T_f0c2c_row2_col11\" class=\"data row2 col11\" >0.54</td>\n",
       "                        <td id=\"T_f0c2c_row2_col12\" class=\"data row2 col12\" >0.65</td>\n",
       "                        <td id=\"T_f0c2c_row2_col13\" class=\"data row2 col13\" >0.60</td>\n",
       "                        <td id=\"T_f0c2c_row2_col14\" class=\"data row2 col14\" >0.64</td>\n",
       "                        <td id=\"T_f0c2c_row2_col15\" class=\"data row2 col15\" >0.68</td>\n",
       "                        <td id=\"T_f0c2c_row2_col16\" class=\"data row2 col16\" >0.56</td>\n",
       "                        <td id=\"T_f0c2c_row2_col17\" class=\"data row2 col17\" >0.57</td>\n",
       "                        <td id=\"T_f0c2c_row2_col18\" class=\"data row2 col18\" >0.22</td>\n",
       "                        <td id=\"T_f0c2c_row2_col19\" class=\"data row2 col19\" >0.09</td>\n",
       "                        <td id=\"T_f0c2c_row2_col20\" class=\"data row2 col20\" >0.76</td>\n",
       "            </tr>\n",
       "            <tr>\n",
       "                        <th id=\"T_f0c2c_level0_row3\" class=\"row_heading level0 row3\" >paperless_billing</th>\n",
       "                        <td id=\"T_f0c2c_row3_col0\" class=\"data row3 col0\" >0.00</td>\n",
       "                        <td id=\"T_f0c2c_row3_col1\" class=\"data row3 col1\" >0.06</td>\n",
       "                        <td id=\"T_f0c2c_row3_col2\" class=\"data row3 col2\" >0.12</td>\n",
       "                        <td id=\"T_f0c2c_row3_col3\" class=\"data row3 col3\" >1.00</td>\n",
       "                        <td id=\"T_f0c2c_row3_col4\" class=\"data row3 col4\" >0.37</td>\n",
       "                        <td id=\"T_f0c2c_row3_col5\" class=\"data row3 col5\" >0.46</td>\n",
       "                        <td id=\"T_f0c2c_row3_col6\" class=\"data row3 col6\" >0.19</td>\n",
       "                        <td id=\"T_f0c2c_row3_col7\" class=\"data row3 col7\" >0.00</td>\n",
       "                        <td id=\"T_f0c2c_row3_col8\" class=\"data row3 col8\" >0.24</td>\n",
       "                        <td id=\"T_f0c2c_row3_col9\" class=\"data row3 col9\" >0.03</td>\n",
       "                        <td id=\"T_f0c2c_row3_col10\" class=\"data row3 col10\" >0.18</td>\n",
       "                        <td id=\"T_f0c2c_row3_col11\" class=\"data row3 col11\" >0.23</td>\n",
       "                        <td id=\"T_f0c2c_row3_col12\" class=\"data row3 col12\" >0.21</td>\n",
       "                        <td id=\"T_f0c2c_row3_col13\" class=\"data row3 col13\" >0.19</td>\n",
       "                        <td id=\"T_f0c2c_row3_col14\" class=\"data row3 col14\" >0.19</td>\n",
       "                        <td id=\"T_f0c2c_row3_col15\" class=\"data row3 col15\" >0.20</td>\n",
       "                        <td id=\"T_f0c2c_row3_col16\" class=\"data row3 col16\" >0.20</td>\n",
       "                        <td id=\"T_f0c2c_row3_col17\" class=\"data row3 col17\" >0.20</td>\n",
       "                        <td id=\"T_f0c2c_row3_col18\" class=\"data row3 col18\" >0.10</td>\n",
       "                        <td id=\"T_f0c2c_row3_col19\" class=\"data row3 col19\" >0.08</td>\n",
       "                        <td id=\"T_f0c2c_row3_col20\" class=\"data row3 col20\" >0.00</td>\n",
       "            </tr>\n",
       "            <tr>\n",
       "                        <th id=\"T_f0c2c_level0_row4\" class=\"row_heading level0 row4\" >payment_method</th>\n",
       "                        <td id=\"T_f0c2c_row4_col0\" class=\"data row4 col0\" >0.43</td>\n",
       "                        <td id=\"T_f0c2c_row4_col1\" class=\"data row4 col1\" >0.16</td>\n",
       "                        <td id=\"T_f0c2c_row4_col2\" class=\"data row4 col2\" >0.28</td>\n",
       "                        <td id=\"T_f0c2c_row4_col3\" class=\"data row4 col3\" >0.37</td>\n",
       "                        <td id=\"T_f0c2c_row4_col4\" class=\"data row4 col4\" >1.00</td>\n",
       "                        <td id=\"T_f0c2c_row4_col5\" class=\"data row4 col5\" >0.39</td>\n",
       "                        <td id=\"T_f0c2c_row4_col6\" class=\"data row4 col6\" >0.32</td>\n",
       "                        <td id=\"T_f0c2c_row4_col7\" class=\"data row4 col7\" >0.00</td>\n",
       "                        <td id=\"T_f0c2c_row4_col8\" class=\"data row4 col8\" >0.29</td>\n",
       "                        <td id=\"T_f0c2c_row4_col9\" class=\"data row4 col9\" >0.23</td>\n",
       "                        <td id=\"T_f0c2c_row4_col10\" class=\"data row4 col10\" >0.23</td>\n",
       "                        <td id=\"T_f0c2c_row4_col11\" class=\"data row4 col11\" >0.32</td>\n",
       "                        <td id=\"T_f0c2c_row4_col12\" class=\"data row4 col12\" >0.31</td>\n",
       "                        <td id=\"T_f0c2c_row4_col13\" class=\"data row4 col13\" >0.29</td>\n",
       "                        <td id=\"T_f0c2c_row4_col14\" class=\"data row4 col14\" >0.29</td>\n",
       "                        <td id=\"T_f0c2c_row4_col15\" class=\"data row4 col15\" >0.31</td>\n",
       "                        <td id=\"T_f0c2c_row4_col16\" class=\"data row4 col16\" >0.28</td>\n",
       "                        <td id=\"T_f0c2c_row4_col17\" class=\"data row4 col17\" >0.28</td>\n",
       "                        <td id=\"T_f0c2c_row4_col18\" class=\"data row4 col18\" >0.17</td>\n",
       "                        <td id=\"T_f0c2c_row4_col19\" class=\"data row4 col19\" >0.20</td>\n",
       "                        <td id=\"T_f0c2c_row4_col20\" class=\"data row4 col20\" >0.44</td>\n",
       "            </tr>\n",
       "            <tr>\n",
       "                        <th id=\"T_f0c2c_level0_row5\" class=\"row_heading level0 row5\" >monthly_charges</th>\n",
       "                        <td id=\"T_f0c2c_row5_col0\" class=\"data row5 col0\" >0.40</td>\n",
       "                        <td id=\"T_f0c2c_row5_col1\" class=\"data row5 col1\" >0.16</td>\n",
       "                        <td id=\"T_f0c2c_row5_col2\" class=\"data row5 col2\" >0.40</td>\n",
       "                        <td id=\"T_f0c2c_row5_col3\" class=\"data row5 col3\" >0.46</td>\n",
       "                        <td id=\"T_f0c2c_row5_col4\" class=\"data row5 col4\" >0.39</td>\n",
       "                        <td id=\"T_f0c2c_row5_col5\" class=\"data row5 col5\" >1.00</td>\n",
       "                        <td id=\"T_f0c2c_row5_col6\" class=\"data row5 col6\" >0.71</td>\n",
       "                        <td id=\"T_f0c2c_row5_col7\" class=\"data row5 col7\" >0.00</td>\n",
       "                        <td id=\"T_f0c2c_row5_col8\" class=\"data row5 col8\" >0.30</td>\n",
       "                        <td id=\"T_f0c2c_row5_col9\" class=\"data row5 col9\" >0.19</td>\n",
       "                        <td id=\"T_f0c2c_row5_col10\" class=\"data row5 col10\" >0.19</td>\n",
       "                        <td id=\"T_f0c2c_row5_col11\" class=\"data row5 col11\" >0.92</td>\n",
       "                        <td id=\"T_f0c2c_row5_col12\" class=\"data row5 col12\" >0.81</td>\n",
       "                        <td id=\"T_f0c2c_row5_col13\" class=\"data row5 col13\" >0.82</td>\n",
       "                        <td id=\"T_f0c2c_row5_col14\" class=\"data row5 col14\" >0.83</td>\n",
       "                        <td id=\"T_f0c2c_row5_col15\" class=\"data row5 col15\" >0.82</td>\n",
       "                        <td id=\"T_f0c2c_row5_col16\" class=\"data row5 col16\" >0.86</td>\n",
       "                        <td id=\"T_f0c2c_row5_col17\" class=\"data row5 col17\" >0.86</td>\n",
       "                        <td id=\"T_f0c2c_row5_col18\" class=\"data row5 col18\" >0.71</td>\n",
       "                        <td id=\"T_f0c2c_row5_col19\" class=\"data row5 col19\" >0.21</td>\n",
       "                        <td id=\"T_f0c2c_row5_col20\" class=\"data row5 col20\" >0.40</td>\n",
       "            </tr>\n",
       "            <tr>\n",
       "                        <th id=\"T_f0c2c_level0_row6\" class=\"row_heading level0 row6\" >total_charges</th>\n",
       "                        <td id=\"T_f0c2c_row6_col0\" class=\"data row6 col0\" >0.77</td>\n",
       "                        <td id=\"T_f0c2c_row6_col1\" class=\"data row6 col1\" >0.20</td>\n",
       "                        <td id=\"T_f0c2c_row6_col2\" class=\"data row6 col2\" >0.46</td>\n",
       "                        <td id=\"T_f0c2c_row6_col3\" class=\"data row6 col3\" >0.19</td>\n",
       "                        <td id=\"T_f0c2c_row6_col4\" class=\"data row6 col4\" >0.32</td>\n",
       "                        <td id=\"T_f0c2c_row6_col5\" class=\"data row6 col5\" >0.71</td>\n",
       "                        <td id=\"T_f0c2c_row6_col6\" class=\"data row6 col6\" >1.00</td>\n",
       "                        <td id=\"T_f0c2c_row6_col7\" class=\"data row6 col7\" >0.00</td>\n",
       "                        <td id=\"T_f0c2c_row6_col8\" class=\"data row6 col8\" >0.13</td>\n",
       "                        <td id=\"T_f0c2c_row6_col9\" class=\"data row6 col9\" >0.36</td>\n",
       "                        <td id=\"T_f0c2c_row6_col10\" class=\"data row6 col10\" >0.08</td>\n",
       "                        <td id=\"T_f0c2c_row6_col11\" class=\"data row6 col11\" >0.49</td>\n",
       "                        <td id=\"T_f0c2c_row6_col12\" class=\"data row6 col12\" >0.52</td>\n",
       "                        <td id=\"T_f0c2c_row6_col13\" class=\"data row6 col13\" >0.55</td>\n",
       "                        <td id=\"T_f0c2c_row6_col14\" class=\"data row6 col14\" >0.56</td>\n",
       "                        <td id=\"T_f0c2c_row6_col15\" class=\"data row6 col15\" >0.53</td>\n",
       "                        <td id=\"T_f0c2c_row6_col16\" class=\"data row6 col16\" >0.55</td>\n",
       "                        <td id=\"T_f0c2c_row6_col17\" class=\"data row6 col17\" >0.55</td>\n",
       "                        <td id=\"T_f0c2c_row6_col18\" class=\"data row6 col18\" >0.46</td>\n",
       "                        <td id=\"T_f0c2c_row6_col19\" class=\"data row6 col19\" >0.30</td>\n",
       "                        <td id=\"T_f0c2c_row6_col20\" class=\"data row6 col20\" >0.83</td>\n",
       "            </tr>\n",
       "            <tr>\n",
       "                        <th id=\"T_f0c2c_level0_row7\" class=\"row_heading level0 row7\" >gender</th>\n",
       "                        <td id=\"T_f0c2c_row7_col0\" class=\"data row7 col0\" >0.00</td>\n",
       "                        <td id=\"T_f0c2c_row7_col1\" class=\"data row7 col1\" >0.02</td>\n",
       "                        <td id=\"T_f0c2c_row7_col2\" class=\"data row7 col2\" >0.00</td>\n",
       "                        <td id=\"T_f0c2c_row7_col3\" class=\"data row7 col3\" >0.00</td>\n",
       "                        <td id=\"T_f0c2c_row7_col4\" class=\"data row7 col4\" >0.00</td>\n",
       "                        <td id=\"T_f0c2c_row7_col5\" class=\"data row7 col5\" >0.00</td>\n",
       "                        <td id=\"T_f0c2c_row7_col6\" class=\"data row7 col6\" >0.00</td>\n",
       "                        <td id=\"T_f0c2c_row7_col7\" class=\"data row7 col7\" >1.00</td>\n",
       "                        <td id=\"T_f0c2c_row7_col8\" class=\"data row7 col8\" >0.00</td>\n",
       "                        <td id=\"T_f0c2c_row7_col9\" class=\"data row7 col9\" >0.00</td>\n",
       "                        <td id=\"T_f0c2c_row7_col10\" class=\"data row7 col10\" >0.00</td>\n",
       "                        <td id=\"T_f0c2c_row7_col11\" class=\"data row7 col11\" >0.00</td>\n",
       "                        <td id=\"T_f0c2c_row7_col12\" class=\"data row7 col12\" >0.00</td>\n",
       "                        <td id=\"T_f0c2c_row7_col13\" class=\"data row7 col13\" >0.00</td>\n",
       "                        <td id=\"T_f0c2c_row7_col14\" class=\"data row7 col14\" >0.00</td>\n",
       "                        <td id=\"T_f0c2c_row7_col15\" class=\"data row7 col15\" >0.00</td>\n",
       "                        <td id=\"T_f0c2c_row7_col16\" class=\"data row7 col16\" >0.00</td>\n",
       "                        <td id=\"T_f0c2c_row7_col17\" class=\"data row7 col17\" >0.00</td>\n",
       "                        <td id=\"T_f0c2c_row7_col18\" class=\"data row7 col18\" >0.00</td>\n",
       "                        <td id=\"T_f0c2c_row7_col19\" class=\"data row7 col19\" >0.02</td>\n",
       "                        <td id=\"T_f0c2c_row7_col20\" class=\"data row7 col20\" >0.00</td>\n",
       "            </tr>\n",
       "            <tr>\n",
       "                        <th id=\"T_f0c2c_level0_row8\" class=\"row_heading level0 row8\" >senior_citizen</th>\n",
       "                        <td id=\"T_f0c2c_row8_col0\" class=\"data row8 col0\" >0.00</td>\n",
       "                        <td id=\"T_f0c2c_row8_col1\" class=\"data row8 col1\" >0.09</td>\n",
       "                        <td id=\"T_f0c2c_row8_col2\" class=\"data row8 col2\" >0.09</td>\n",
       "                        <td id=\"T_f0c2c_row8_col3\" class=\"data row8 col3\" >0.24</td>\n",
       "                        <td id=\"T_f0c2c_row8_col4\" class=\"data row8 col4\" >0.29</td>\n",
       "                        <td id=\"T_f0c2c_row8_col5\" class=\"data row8 col5\" >0.30</td>\n",
       "                        <td id=\"T_f0c2c_row8_col6\" class=\"data row8 col6\" >0.13</td>\n",
       "                        <td id=\"T_f0c2c_row8_col7\" class=\"data row8 col7\" >0.00</td>\n",
       "                        <td id=\"T_f0c2c_row8_col8\" class=\"data row8 col8\" >1.00</td>\n",
       "                        <td id=\"T_f0c2c_row8_col9\" class=\"data row8 col9\" >0.00</td>\n",
       "                        <td id=\"T_f0c2c_row8_col10\" class=\"data row8 col10\" >0.33</td>\n",
       "                        <td id=\"T_f0c2c_row8_col11\" class=\"data row8 col11\" >0.16</td>\n",
       "                        <td id=\"T_f0c2c_row8_col12\" class=\"data row8 col12\" >0.13</td>\n",
       "                        <td id=\"T_f0c2c_row8_col13\" class=\"data row8 col13\" >0.11</td>\n",
       "                        <td id=\"T_f0c2c_row8_col14\" class=\"data row8 col14\" >0.11</td>\n",
       "                        <td id=\"T_f0c2c_row8_col15\" class=\"data row8 col15\" >0.13</td>\n",
       "                        <td id=\"T_f0c2c_row8_col16\" class=\"data row8 col16\" >0.11</td>\n",
       "                        <td id=\"T_f0c2c_row8_col17\" class=\"data row8 col17\" >0.11</td>\n",
       "                        <td id=\"T_f0c2c_row8_col18\" class=\"data row8 col18\" >0.08</td>\n",
       "                        <td id=\"T_f0c2c_row8_col19\" class=\"data row8 col19\" >0.08</td>\n",
       "                        <td id=\"T_f0c2c_row8_col20\" class=\"data row8 col20\" >0.12</td>\n",
       "            </tr>\n",
       "            <tr>\n",
       "                        <th id=\"T_f0c2c_level0_row9\" class=\"row_heading level0 row9\" >partner</th>\n",
       "                        <td id=\"T_f0c2c_row9_col0\" class=\"data row9 col0\" >0.45</td>\n",
       "                        <td id=\"T_f0c2c_row9_col1\" class=\"data row9 col1\" >0.17</td>\n",
       "                        <td id=\"T_f0c2c_row9_col2\" class=\"data row9 col2\" >0.17</td>\n",
       "                        <td id=\"T_f0c2c_row9_col3\" class=\"data row9 col3\" >0.03</td>\n",
       "                        <td id=\"T_f0c2c_row9_col4\" class=\"data row9 col4\" >0.23</td>\n",
       "                        <td id=\"T_f0c2c_row9_col5\" class=\"data row9 col5\" >0.19</td>\n",
       "                        <td id=\"T_f0c2c_row9_col6\" class=\"data row9 col6\" >0.36</td>\n",
       "                        <td id=\"T_f0c2c_row9_col7\" class=\"data row9 col7\" >0.00</td>\n",
       "                        <td id=\"T_f0c2c_row9_col8\" class=\"data row9 col8\" >0.00</td>\n",
       "                        <td id=\"T_f0c2c_row9_col9\" class=\"data row9 col9\" >1.00</td>\n",
       "                        <td id=\"T_f0c2c_row9_col10\" class=\"data row9 col10\" >0.65</td>\n",
       "                        <td id=\"T_f0c2c_row9_col11\" class=\"data row9 col11\" >0.00</td>\n",
       "                        <td id=\"T_f0c2c_row9_col12\" class=\"data row9 col12\" >0.09</td>\n",
       "                        <td id=\"T_f0c2c_row9_col13\" class=\"data row9 col13\" >0.09</td>\n",
       "                        <td id=\"T_f0c2c_row9_col14\" class=\"data row9 col14\" >0.09</td>\n",
       "                        <td id=\"T_f0c2c_row9_col15\" class=\"data row9 col15\" >0.08</td>\n",
       "                        <td id=\"T_f0c2c_row9_col16\" class=\"data row9 col16\" >0.08</td>\n",
       "                        <td id=\"T_f0c2c_row9_col17\" class=\"data row9 col17\" >0.07</td>\n",
       "                        <td id=\"T_f0c2c_row9_col18\" class=\"data row9 col18\" >0.08</td>\n",
       "                        <td id=\"T_f0c2c_row9_col19\" class=\"data row9 col19\" >0.22</td>\n",
       "                        <td id=\"T_f0c2c_row9_col20\" class=\"data row9 col20\" >0.44</td>\n",
       "            </tr>\n",
       "            <tr>\n",
       "                        <th id=\"T_f0c2c_level0_row10\" class=\"row_heading level0 row10\" >dependents</th>\n",
       "                        <td id=\"T_f0c2c_row10_col0\" class=\"data row10 col0\" >0.19</td>\n",
       "                        <td id=\"T_f0c2c_row10_col1\" class=\"data row10 col1\" >0.05</td>\n",
       "                        <td id=\"T_f0c2c_row10_col2\" class=\"data row10 col2\" >0.14</td>\n",
       "                        <td id=\"T_f0c2c_row10_col3\" class=\"data row10 col3\" >0.18</td>\n",
       "                        <td id=\"T_f0c2c_row10_col4\" class=\"data row10 col4\" >0.23</td>\n",
       "                        <td id=\"T_f0c2c_row10_col5\" class=\"data row10 col5\" >0.19</td>\n",
       "                        <td id=\"T_f0c2c_row10_col6\" class=\"data row10 col6\" >0.08</td>\n",
       "                        <td id=\"T_f0c2c_row10_col7\" class=\"data row10 col7\" >0.00</td>\n",
       "                        <td id=\"T_f0c2c_row10_col8\" class=\"data row10 col8\" >0.33</td>\n",
       "                        <td id=\"T_f0c2c_row10_col9\" class=\"data row10 col9\" >0.65</td>\n",
       "                        <td id=\"T_f0c2c_row10_col10\" class=\"data row10 col10\" >1.00</td>\n",
       "                        <td id=\"T_f0c2c_row10_col11\" class=\"data row10 col11\" >0.11</td>\n",
       "                        <td id=\"T_f0c2c_row10_col12\" class=\"data row10 col12\" >0.12</td>\n",
       "                        <td id=\"T_f0c2c_row10_col13\" class=\"data row10 col13\" >0.10</td>\n",
       "                        <td id=\"T_f0c2c_row10_col14\" class=\"data row10 col14\" >0.10</td>\n",
       "                        <td id=\"T_f0c2c_row10_col15\" class=\"data row10 col15\" >0.11</td>\n",
       "                        <td id=\"T_f0c2c_row10_col16\" class=\"data row10 col16\" >0.09</td>\n",
       "                        <td id=\"T_f0c2c_row10_col17\" class=\"data row10 col17\" >0.09</td>\n",
       "                        <td id=\"T_f0c2c_row10_col18\" class=\"data row10 col18\" >0.02</td>\n",
       "                        <td id=\"T_f0c2c_row10_col19\" class=\"data row10 col19\" >0.04</td>\n",
       "                        <td id=\"T_f0c2c_row10_col20\" class=\"data row10 col20\" >0.21</td>\n",
       "            </tr>\n",
       "            <tr>\n",
       "                        <th id=\"T_f0c2c_level0_row11\" class=\"row_heading level0 row11\" >internet_service</th>\n",
       "                        <td id=\"T_f0c2c_row11_col0\" class=\"data row11 col0\" >0.00</td>\n",
       "                        <td id=\"T_f0c2c_row11_col1\" class=\"data row11 col1\" >0.10</td>\n",
       "                        <td id=\"T_f0c2c_row11_col2\" class=\"data row11 col2\" >0.54</td>\n",
       "                        <td id=\"T_f0c2c_row11_col3\" class=\"data row11 col3\" >0.23</td>\n",
       "                        <td id=\"T_f0c2c_row11_col4\" class=\"data row11 col4\" >0.32</td>\n",
       "                        <td id=\"T_f0c2c_row11_col5\" class=\"data row11 col5\" >0.92</td>\n",
       "                        <td id=\"T_f0c2c_row11_col6\" class=\"data row11 col6\" >0.49</td>\n",
       "                        <td id=\"T_f0c2c_row11_col7\" class=\"data row11 col7\" >0.00</td>\n",
       "                        <td id=\"T_f0c2c_row11_col8\" class=\"data row11 col8\" >0.16</td>\n",
       "                        <td id=\"T_f0c2c_row11_col9\" class=\"data row11 col9\" >0.00</td>\n",
       "                        <td id=\"T_f0c2c_row11_col10\" class=\"data row11 col10\" >0.11</td>\n",
       "                        <td id=\"T_f0c2c_row11_col11\" class=\"data row11 col11\" >1.00</td>\n",
       "                        <td id=\"T_f0c2c_row11_col12\" class=\"data row11 col12\" >0.95</td>\n",
       "                        <td id=\"T_f0c2c_row11_col13\" class=\"data row11 col13\" >0.94</td>\n",
       "                        <td id=\"T_f0c2c_row11_col14\" class=\"data row11 col14\" >0.94</td>\n",
       "                        <td id=\"T_f0c2c_row11_col15\" class=\"data row11 col15\" >0.95</td>\n",
       "                        <td id=\"T_f0c2c_row11_col16\" class=\"data row11 col16\" >0.95</td>\n",
       "                        <td id=\"T_f0c2c_row11_col17\" class=\"data row11 col17\" >0.95</td>\n",
       "                        <td id=\"T_f0c2c_row11_col18\" class=\"data row11 col18\" >0.74</td>\n",
       "                        <td id=\"T_f0c2c_row11_col19\" class=\"data row11 col19\" >0.05</td>\n",
       "                        <td id=\"T_f0c2c_row11_col20\" class=\"data row11 col20\" >0.09</td>\n",
       "            </tr>\n",
       "            <tr>\n",
       "                        <th id=\"T_f0c2c_level0_row12\" class=\"row_heading level0 row12\" >online_security</th>\n",
       "                        <td id=\"T_f0c2c_row12_col0\" class=\"data row12 col0\" >0.45</td>\n",
       "                        <td id=\"T_f0c2c_row12_col1\" class=\"data row12 col1\" >0.16</td>\n",
       "                        <td id=\"T_f0c2c_row12_col2\" class=\"data row12 col2\" >0.65</td>\n",
       "                        <td id=\"T_f0c2c_row12_col3\" class=\"data row12 col3\" >0.21</td>\n",
       "                        <td id=\"T_f0c2c_row12_col4\" class=\"data row12 col4\" >0.31</td>\n",
       "                        <td id=\"T_f0c2c_row12_col5\" class=\"data row12 col5\" >0.81</td>\n",
       "                        <td id=\"T_f0c2c_row12_col6\" class=\"data row12 col6\" >0.52</td>\n",
       "                        <td id=\"T_f0c2c_row12_col7\" class=\"data row12 col7\" >0.00</td>\n",
       "                        <td id=\"T_f0c2c_row12_col8\" class=\"data row12 col8\" >0.13</td>\n",
       "                        <td id=\"T_f0c2c_row12_col9\" class=\"data row12 col9\" >0.09</td>\n",
       "                        <td id=\"T_f0c2c_row12_col10\" class=\"data row12 col10\" >0.12</td>\n",
       "                        <td id=\"T_f0c2c_row12_col11\" class=\"data row12 col11\" >0.95</td>\n",
       "                        <td id=\"T_f0c2c_row12_col12\" class=\"data row12 col12\" >1.00</td>\n",
       "                        <td id=\"T_f0c2c_row12_col13\" class=\"data row12 col13\" >0.95</td>\n",
       "                        <td id=\"T_f0c2c_row12_col14\" class=\"data row12 col14\" >0.95</td>\n",
       "                        <td id=\"T_f0c2c_row12_col15\" class=\"data row12 col15\" >0.95</td>\n",
       "                        <td id=\"T_f0c2c_row12_col16\" class=\"data row12 col16\" >0.94</td>\n",
       "                        <td id=\"T_f0c2c_row12_col17\" class=\"data row12 col17\" >0.94</td>\n",
       "                        <td id=\"T_f0c2c_row12_col18\" class=\"data row12 col18\" >0.53</td>\n",
       "                        <td id=\"T_f0c2c_row12_col19\" class=\"data row12 col19\" >0.05</td>\n",
       "                        <td id=\"T_f0c2c_row12_col20\" class=\"data row12 col20\" >0.45</td>\n",
       "            </tr>\n",
       "            <tr>\n",
       "                        <th id=\"T_f0c2c_level0_row13\" class=\"row_heading level0 row13\" >online_backup</th>\n",
       "                        <td id=\"T_f0c2c_row13_col0\" class=\"data row13 col0\" >0.49</td>\n",
       "                        <td id=\"T_f0c2c_row13_col1\" class=\"data row13 col1\" >0.23</td>\n",
       "                        <td id=\"T_f0c2c_row13_col2\" class=\"data row13 col2\" >0.60</td>\n",
       "                        <td id=\"T_f0c2c_row13_col3\" class=\"data row13 col3\" >0.19</td>\n",
       "                        <td id=\"T_f0c2c_row13_col4\" class=\"data row13 col4\" >0.29</td>\n",
       "                        <td id=\"T_f0c2c_row13_col5\" class=\"data row13 col5\" >0.82</td>\n",
       "                        <td id=\"T_f0c2c_row13_col6\" class=\"data row13 col6\" >0.55</td>\n",
       "                        <td id=\"T_f0c2c_row13_col7\" class=\"data row13 col7\" >0.00</td>\n",
       "                        <td id=\"T_f0c2c_row13_col8\" class=\"data row13 col8\" >0.11</td>\n",
       "                        <td id=\"T_f0c2c_row13_col9\" class=\"data row13 col9\" >0.09</td>\n",
       "                        <td id=\"T_f0c2c_row13_col10\" class=\"data row13 col10\" >0.10</td>\n",
       "                        <td id=\"T_f0c2c_row13_col11\" class=\"data row13 col11\" >0.94</td>\n",
       "                        <td id=\"T_f0c2c_row13_col12\" class=\"data row13 col12\" >0.95</td>\n",
       "                        <td id=\"T_f0c2c_row13_col13\" class=\"data row13 col13\" >1.00</td>\n",
       "                        <td id=\"T_f0c2c_row13_col14\" class=\"data row13 col14\" >0.95</td>\n",
       "                        <td id=\"T_f0c2c_row13_col15\" class=\"data row13 col15\" >0.95</td>\n",
       "                        <td id=\"T_f0c2c_row13_col16\" class=\"data row13 col16\" >0.95</td>\n",
       "                        <td id=\"T_f0c2c_row13_col17\" class=\"data row13 col17\" >0.95</td>\n",
       "                        <td id=\"T_f0c2c_row13_col18\" class=\"data row13 col18\" >0.55</td>\n",
       "                        <td id=\"T_f0c2c_row13_col19\" class=\"data row13 col19\" >0.09</td>\n",
       "                        <td id=\"T_f0c2c_row13_col20\" class=\"data row13 col20\" >0.47</td>\n",
       "            </tr>\n",
       "            <tr>\n",
       "                        <th id=\"T_f0c2c_level0_row14\" class=\"row_heading level0 row14\" >device_protection</th>\n",
       "                        <td id=\"T_f0c2c_row14_col0\" class=\"data row14 col0\" >0.49</td>\n",
       "                        <td id=\"T_f0c2c_row14_col1\" class=\"data row14 col1\" >0.22</td>\n",
       "                        <td id=\"T_f0c2c_row14_col2\" class=\"data row14 col2\" >0.64</td>\n",
       "                        <td id=\"T_f0c2c_row14_col3\" class=\"data row14 col3\" >0.19</td>\n",
       "                        <td id=\"T_f0c2c_row14_col4\" class=\"data row14 col4\" >0.29</td>\n",
       "                        <td id=\"T_f0c2c_row14_col5\" class=\"data row14 col5\" >0.83</td>\n",
       "                        <td id=\"T_f0c2c_row14_col6\" class=\"data row14 col6\" >0.56</td>\n",
       "                        <td id=\"T_f0c2c_row14_col7\" class=\"data row14 col7\" >0.00</td>\n",
       "                        <td id=\"T_f0c2c_row14_col8\" class=\"data row14 col8\" >0.11</td>\n",
       "                        <td id=\"T_f0c2c_row14_col9\" class=\"data row14 col9\" >0.09</td>\n",
       "                        <td id=\"T_f0c2c_row14_col10\" class=\"data row14 col10\" >0.10</td>\n",
       "                        <td id=\"T_f0c2c_row14_col11\" class=\"data row14 col11\" >0.94</td>\n",
       "                        <td id=\"T_f0c2c_row14_col12\" class=\"data row14 col12\" >0.95</td>\n",
       "                        <td id=\"T_f0c2c_row14_col13\" class=\"data row14 col13\" >0.95</td>\n",
       "                        <td id=\"T_f0c2c_row14_col14\" class=\"data row14 col14\" >1.00</td>\n",
       "                        <td id=\"T_f0c2c_row14_col15\" class=\"data row14 col15\" >0.95</td>\n",
       "                        <td id=\"T_f0c2c_row14_col16\" class=\"data row14 col16\" >0.95</td>\n",
       "                        <td id=\"T_f0c2c_row14_col17\" class=\"data row14 col17\" >0.95</td>\n",
       "                        <td id=\"T_f0c2c_row14_col18\" class=\"data row14 col18\" >0.55</td>\n",
       "                        <td id=\"T_f0c2c_row14_col19\" class=\"data row14 col19\" >0.08</td>\n",
       "                        <td id=\"T_f0c2c_row14_col20\" class=\"data row14 col20\" >0.48</td>\n",
       "            </tr>\n",
       "            <tr>\n",
       "                        <th id=\"T_f0c2c_level0_row15\" class=\"row_heading level0 row15\" >tech_support</th>\n",
       "                        <td id=\"T_f0c2c_row15_col0\" class=\"data row15 col0\" >0.45</td>\n",
       "                        <td id=\"T_f0c2c_row15_col1\" class=\"data row15 col1\" >0.14</td>\n",
       "                        <td id=\"T_f0c2c_row15_col2\" class=\"data row15 col2\" >0.68</td>\n",
       "                        <td id=\"T_f0c2c_row15_col3\" class=\"data row15 col3\" >0.20</td>\n",
       "                        <td id=\"T_f0c2c_row15_col4\" class=\"data row15 col4\" >0.31</td>\n",
       "                        <td id=\"T_f0c2c_row15_col5\" class=\"data row15 col5\" >0.82</td>\n",
       "                        <td id=\"T_f0c2c_row15_col6\" class=\"data row15 col6\" >0.53</td>\n",
       "                        <td id=\"T_f0c2c_row15_col7\" class=\"data row15 col7\" >0.00</td>\n",
       "                        <td id=\"T_f0c2c_row15_col8\" class=\"data row15 col8\" >0.13</td>\n",
       "                        <td id=\"T_f0c2c_row15_col9\" class=\"data row15 col9\" >0.08</td>\n",
       "                        <td id=\"T_f0c2c_row15_col10\" class=\"data row15 col10\" >0.11</td>\n",
       "                        <td id=\"T_f0c2c_row15_col11\" class=\"data row15 col11\" >0.95</td>\n",
       "                        <td id=\"T_f0c2c_row15_col12\" class=\"data row15 col12\" >0.95</td>\n",
       "                        <td id=\"T_f0c2c_row15_col13\" class=\"data row15 col13\" >0.95</td>\n",
       "                        <td id=\"T_f0c2c_row15_col14\" class=\"data row15 col14\" >0.95</td>\n",
       "                        <td id=\"T_f0c2c_row15_col15\" class=\"data row15 col15\" >1.00</td>\n",
       "                        <td id=\"T_f0c2c_row15_col16\" class=\"data row15 col16\" >0.95</td>\n",
       "                        <td id=\"T_f0c2c_row15_col17\" class=\"data row15 col17\" >0.95</td>\n",
       "                        <td id=\"T_f0c2c_row15_col18\" class=\"data row15 col18\" >0.53</td>\n",
       "                        <td id=\"T_f0c2c_row15_col19\" class=\"data row15 col19\" >0.05</td>\n",
       "                        <td id=\"T_f0c2c_row15_col20\" class=\"data row15 col20\" >0.44</td>\n",
       "            </tr>\n",
       "            <tr>\n",
       "                        <th id=\"T_f0c2c_level0_row16\" class=\"row_heading level0 row16\" >streaming_tv</th>\n",
       "                        <td id=\"T_f0c2c_row16_col0\" class=\"data row16 col0\" >0.39</td>\n",
       "                        <td id=\"T_f0c2c_row16_col1\" class=\"data row16 col1\" >0.17</td>\n",
       "                        <td id=\"T_f0c2c_row16_col2\" class=\"data row16 col2\" >0.56</td>\n",
       "                        <td id=\"T_f0c2c_row16_col3\" class=\"data row16 col3\" >0.20</td>\n",
       "                        <td id=\"T_f0c2c_row16_col4\" class=\"data row16 col4\" >0.28</td>\n",
       "                        <td id=\"T_f0c2c_row16_col5\" class=\"data row16 col5\" >0.86</td>\n",
       "                        <td id=\"T_f0c2c_row16_col6\" class=\"data row16 col6\" >0.55</td>\n",
       "                        <td id=\"T_f0c2c_row16_col7\" class=\"data row16 col7\" >0.00</td>\n",
       "                        <td id=\"T_f0c2c_row16_col8\" class=\"data row16 col8\" >0.11</td>\n",
       "                        <td id=\"T_f0c2c_row16_col9\" class=\"data row16 col9\" >0.08</td>\n",
       "                        <td id=\"T_f0c2c_row16_col10\" class=\"data row16 col10\" >0.09</td>\n",
       "                        <td id=\"T_f0c2c_row16_col11\" class=\"data row16 col11\" >0.95</td>\n",
       "                        <td id=\"T_f0c2c_row16_col12\" class=\"data row16 col12\" >0.94</td>\n",
       "                        <td id=\"T_f0c2c_row16_col13\" class=\"data row16 col13\" >0.95</td>\n",
       "                        <td id=\"T_f0c2c_row16_col14\" class=\"data row16 col14\" >0.95</td>\n",
       "                        <td id=\"T_f0c2c_row16_col15\" class=\"data row16 col15\" >0.95</td>\n",
       "                        <td id=\"T_f0c2c_row16_col16\" class=\"data row16 col16\" >1.00</td>\n",
       "                        <td id=\"T_f0c2c_row16_col17\" class=\"data row16 col17\" >0.96</td>\n",
       "                        <td id=\"T_f0c2c_row16_col18\" class=\"data row16 col18\" >0.58</td>\n",
       "                        <td id=\"T_f0c2c_row16_col19\" class=\"data row16 col19\" >0.07</td>\n",
       "                        <td id=\"T_f0c2c_row16_col20\" class=\"data row16 col20\" >0.39</td>\n",
       "            </tr>\n",
       "            <tr>\n",
       "                        <th id=\"T_f0c2c_level0_row17\" class=\"row_heading level0 row17\" >streaming_movies</th>\n",
       "                        <td id=\"T_f0c2c_row17_col0\" class=\"data row17 col0\" >0.41</td>\n",
       "                        <td id=\"T_f0c2c_row17_col1\" class=\"data row17 col1\" >0.19</td>\n",
       "                        <td id=\"T_f0c2c_row17_col2\" class=\"data row17 col2\" >0.57</td>\n",
       "                        <td id=\"T_f0c2c_row17_col3\" class=\"data row17 col3\" >0.20</td>\n",
       "                        <td id=\"T_f0c2c_row17_col4\" class=\"data row17 col4\" >0.28</td>\n",
       "                        <td id=\"T_f0c2c_row17_col5\" class=\"data row17 col5\" >0.86</td>\n",
       "                        <td id=\"T_f0c2c_row17_col6\" class=\"data row17 col6\" >0.55</td>\n",
       "                        <td id=\"T_f0c2c_row17_col7\" class=\"data row17 col7\" >0.00</td>\n",
       "                        <td id=\"T_f0c2c_row17_col8\" class=\"data row17 col8\" >0.11</td>\n",
       "                        <td id=\"T_f0c2c_row17_col9\" class=\"data row17 col9\" >0.07</td>\n",
       "                        <td id=\"T_f0c2c_row17_col10\" class=\"data row17 col10\" >0.09</td>\n",
       "                        <td id=\"T_f0c2c_row17_col11\" class=\"data row17 col11\" >0.95</td>\n",
       "                        <td id=\"T_f0c2c_row17_col12\" class=\"data row17 col12\" >0.94</td>\n",
       "                        <td id=\"T_f0c2c_row17_col13\" class=\"data row17 col13\" >0.95</td>\n",
       "                        <td id=\"T_f0c2c_row17_col14\" class=\"data row17 col14\" >0.95</td>\n",
       "                        <td id=\"T_f0c2c_row17_col15\" class=\"data row17 col15\" >0.95</td>\n",
       "                        <td id=\"T_f0c2c_row17_col16\" class=\"data row17 col16\" >0.96</td>\n",
       "                        <td id=\"T_f0c2c_row17_col17\" class=\"data row17 col17\" >1.00</td>\n",
       "                        <td id=\"T_f0c2c_row17_col18\" class=\"data row17 col18\" >0.58</td>\n",
       "                        <td id=\"T_f0c2c_row17_col19\" class=\"data row17 col19\" >0.08</td>\n",
       "                        <td id=\"T_f0c2c_row17_col20\" class=\"data row17 col20\" >0.41</td>\n",
       "            </tr>\n",
       "            <tr>\n",
       "                        <th id=\"T_f0c2c_level0_row18\" class=\"row_heading level0 row18\" >multiple_lines</th>\n",
       "                        <td id=\"T_f0c2c_row18_col0\" class=\"data row18 col0\" >0.46</td>\n",
       "                        <td id=\"T_f0c2c_row18_col1\" class=\"data row18 col1\" >0.24</td>\n",
       "                        <td id=\"T_f0c2c_row18_col2\" class=\"data row18 col2\" >0.22</td>\n",
       "                        <td id=\"T_f0c2c_row18_col3\" class=\"data row18 col3\" >0.10</td>\n",
       "                        <td id=\"T_f0c2c_row18_col4\" class=\"data row18 col4\" >0.17</td>\n",
       "                        <td id=\"T_f0c2c_row18_col5\" class=\"data row18 col5\" >0.71</td>\n",
       "                        <td id=\"T_f0c2c_row18_col6\" class=\"data row18 col6\" >0.46</td>\n",
       "                        <td id=\"T_f0c2c_row18_col7\" class=\"data row18 col7\" >0.00</td>\n",
       "                        <td id=\"T_f0c2c_row18_col8\" class=\"data row18 col8\" >0.08</td>\n",
       "                        <td id=\"T_f0c2c_row18_col9\" class=\"data row18 col9\" >0.08</td>\n",
       "                        <td id=\"T_f0c2c_row18_col10\" class=\"data row18 col10\" >0.02</td>\n",
       "                        <td id=\"T_f0c2c_row18_col11\" class=\"data row18 col11\" >0.74</td>\n",
       "                        <td id=\"T_f0c2c_row18_col12\" class=\"data row18 col12\" >0.53</td>\n",
       "                        <td id=\"T_f0c2c_row18_col13\" class=\"data row18 col13\" >0.55</td>\n",
       "                        <td id=\"T_f0c2c_row18_col14\" class=\"data row18 col14\" >0.55</td>\n",
       "                        <td id=\"T_f0c2c_row18_col15\" class=\"data row18 col15\" >0.53</td>\n",
       "                        <td id=\"T_f0c2c_row18_col16\" class=\"data row18 col16\" >0.58</td>\n",
       "                        <td id=\"T_f0c2c_row18_col17\" class=\"data row18 col17\" >0.58</td>\n",
       "                        <td id=\"T_f0c2c_row18_col18\" class=\"data row18 col18\" >1.00</td>\n",
       "                        <td id=\"T_f0c2c_row18_col19\" class=\"data row18 col19\" >0.10</td>\n",
       "                        <td id=\"T_f0c2c_row18_col20\" class=\"data row18 col20\" >0.45</td>\n",
       "            </tr>\n",
       "            <tr>\n",
       "                        <th id=\"T_f0c2c_level0_row19\" class=\"row_heading level0 row19\" >exited</th>\n",
       "                        <td id=\"T_f0c2c_row19_col0\" class=\"data row19 col0\" >0.44</td>\n",
       "                        <td id=\"T_f0c2c_row19_col1\" class=\"data row19 col1\" >1.00</td>\n",
       "                        <td id=\"T_f0c2c_row19_col2\" class=\"data row19 col2\" >0.09</td>\n",
       "                        <td id=\"T_f0c2c_row19_col3\" class=\"data row19 col3\" >0.08</td>\n",
       "                        <td id=\"T_f0c2c_row19_col4\" class=\"data row19 col4\" >0.20</td>\n",
       "                        <td id=\"T_f0c2c_row19_col5\" class=\"data row19 col5\" >0.21</td>\n",
       "                        <td id=\"T_f0c2c_row19_col6\" class=\"data row19 col6\" >0.30</td>\n",
       "                        <td id=\"T_f0c2c_row19_col7\" class=\"data row19 col7\" >0.02</td>\n",
       "                        <td id=\"T_f0c2c_row19_col8\" class=\"data row19 col8\" >0.08</td>\n",
       "                        <td id=\"T_f0c2c_row19_col9\" class=\"data row19 col9\" >0.22</td>\n",
       "                        <td id=\"T_f0c2c_row19_col10\" class=\"data row19 col10\" >0.04</td>\n",
       "                        <td id=\"T_f0c2c_row19_col11\" class=\"data row19 col11\" >0.05</td>\n",
       "                        <td id=\"T_f0c2c_row19_col12\" class=\"data row19 col12\" >0.05</td>\n",
       "                        <td id=\"T_f0c2c_row19_col13\" class=\"data row19 col13\" >0.09</td>\n",
       "                        <td id=\"T_f0c2c_row19_col14\" class=\"data row19 col14\" >0.08</td>\n",
       "                        <td id=\"T_f0c2c_row19_col15\" class=\"data row19 col15\" >0.05</td>\n",
       "                        <td id=\"T_f0c2c_row19_col16\" class=\"data row19 col16\" >0.07</td>\n",
       "                        <td id=\"T_f0c2c_row19_col17\" class=\"data row19 col17\" >0.08</td>\n",
       "                        <td id=\"T_f0c2c_row19_col18\" class=\"data row19 col18\" >0.10</td>\n",
       "                        <td id=\"T_f0c2c_row19_col19\" class=\"data row19 col19\" >1.00</td>\n",
       "                        <td id=\"T_f0c2c_row19_col20\" class=\"data row19 col20\" >0.93</td>\n",
       "            </tr>\n",
       "            <tr>\n",
       "                        <th id=\"T_f0c2c_level0_row20\" class=\"row_heading level0 row20\" >contract_duration</th>\n",
       "                        <td id=\"T_f0c2c_row20_col0\" class=\"data row20 col0\" >1.00</td>\n",
       "                        <td id=\"T_f0c2c_row20_col1\" class=\"data row20 col1\" >0.98</td>\n",
       "                        <td id=\"T_f0c2c_row20_col2\" class=\"data row20 col2\" >0.76</td>\n",
       "                        <td id=\"T_f0c2c_row20_col3\" class=\"data row20 col3\" >0.00</td>\n",
       "                        <td id=\"T_f0c2c_row20_col4\" class=\"data row20 col4\" >0.44</td>\n",
       "                        <td id=\"T_f0c2c_row20_col5\" class=\"data row20 col5\" >0.40</td>\n",
       "                        <td id=\"T_f0c2c_row20_col6\" class=\"data row20 col6\" >0.83</td>\n",
       "                        <td id=\"T_f0c2c_row20_col7\" class=\"data row20 col7\" >0.00</td>\n",
       "                        <td id=\"T_f0c2c_row20_col8\" class=\"data row20 col8\" >0.12</td>\n",
       "                        <td id=\"T_f0c2c_row20_col9\" class=\"data row20 col9\" >0.44</td>\n",
       "                        <td id=\"T_f0c2c_row20_col10\" class=\"data row20 col10\" >0.21</td>\n",
       "                        <td id=\"T_f0c2c_row20_col11\" class=\"data row20 col11\" >0.09</td>\n",
       "                        <td id=\"T_f0c2c_row20_col12\" class=\"data row20 col12\" >0.45</td>\n",
       "                        <td id=\"T_f0c2c_row20_col13\" class=\"data row20 col13\" >0.47</td>\n",
       "                        <td id=\"T_f0c2c_row20_col14\" class=\"data row20 col14\" >0.48</td>\n",
       "                        <td id=\"T_f0c2c_row20_col15\" class=\"data row20 col15\" >0.44</td>\n",
       "                        <td id=\"T_f0c2c_row20_col16\" class=\"data row20 col16\" >0.39</td>\n",
       "                        <td id=\"T_f0c2c_row20_col17\" class=\"data row20 col17\" >0.41</td>\n",
       "                        <td id=\"T_f0c2c_row20_col18\" class=\"data row20 col18\" >0.45</td>\n",
       "                        <td id=\"T_f0c2c_row20_col19\" class=\"data row20 col19\" >0.93</td>\n",
       "                        <td id=\"T_f0c2c_row20_col20\" class=\"data row20 col20\" >1.00</td>\n",
       "            </tr>\n",
       "    </tbody></table>"
      ],
      "text/plain": [
       "<pandas.io.formats.style.Styler at 0x7f6d7d5efa00>"
      ]
     },
     "execution_count": 45,
     "metadata": {},
     "output_type": "execute_result"
    }
   ],
   "source": [
    "cm = sns.light_palette('green', as_cmap=True)\n",
    "corr_matrix.style.set_precision(2).background_gradient(cmap=cm)"
   ]
  },
  {
   "cell_type": "code",
   "execution_count": 46,
   "metadata": {},
   "outputs": [
    {
     "data": {
      "image/png": "[encoded data removed]",
      "text/plain": [
       "<Figure size 1440x720 with 2 Axes>"
      ]
     },
     "metadata": {
      "needs_background": "light"
     },
     "output_type": "display_data"
    }
   ],
   "source": [
    "plot_correlation_matrix(\n",
    "    corr_matrix.values, \n",
    "    x_labels=corr_matrix.columns, \n",
    "    y_labels=corr_matrix.index, \n",
    "    vmin=0, vmax=1, color_map='summer_r', \n",
    "    title='Корреляция признаков', \n",
    "    fontsize_factor=1.5, \n",
    "    figsize=(20, 10)\n",
    ")\n",
    "plt.tight_layout()"
   ]
  },
  {
   "cell_type": "code",
   "execution_count": 47,
   "metadata": {},
   "outputs": [
    {
     "data": {
      "text/html": [
       "<div>\n",
       "<style scoped>\n",
       "    .dataframe tbody tr th:only-of-type {\n",
       "        vertical-align: middle;\n",
       "    }\n",
       "\n",
       "    .dataframe tbody tr th {\n",
       "        vertical-align: top;\n",
       "    }\n",
       "\n",
       "    .dataframe thead th {\n",
       "        text-align: right;\n",
       "    }\n",
       "</style>\n",
       "<table border=\"1\" class=\"dataframe\">\n",
       "  <thead>\n",
       "    <tr style=\"text-align: right;\">\n",
       "      <th></th>\n",
       "      <th>begin_date</th>\n",
       "      <th>end_date</th>\n",
       "      <th>type</th>\n",
       "      <th>paperless_billing</th>\n",
       "      <th>payment_method</th>\n",
       "      <th>monthly_charges</th>\n",
       "      <th>total_charges</th>\n",
       "      <th>gender</th>\n",
       "      <th>senior_citizen</th>\n",
       "      <th>partner</th>\n",
       "      <th>dependents</th>\n",
       "      <th>internet_service</th>\n",
       "      <th>online_security</th>\n",
       "      <th>online_backup</th>\n",
       "      <th>device_protection</th>\n",
       "      <th>tech_support</th>\n",
       "      <th>streaming_tv</th>\n",
       "      <th>streaming_movies</th>\n",
       "      <th>multiple_lines</th>\n",
       "      <th>exited</th>\n",
       "      <th>contract_duration</th>\n",
       "    </tr>\n",
       "    <tr>\n",
       "      <th>customerID</th>\n",
       "      <th></th>\n",
       "      <th></th>\n",
       "      <th></th>\n",
       "      <th></th>\n",
       "      <th></th>\n",
       "      <th></th>\n",
       "      <th></th>\n",
       "      <th></th>\n",
       "      <th></th>\n",
       "      <th></th>\n",
       "      <th></th>\n",
       "      <th></th>\n",
       "      <th></th>\n",
       "      <th></th>\n",
       "      <th></th>\n",
       "      <th></th>\n",
       "      <th></th>\n",
       "      <th></th>\n",
       "      <th></th>\n",
       "      <th></th>\n",
       "      <th></th>\n",
       "    </tr>\n",
       "  </thead>\n",
       "  <tbody>\n",
       "    <tr>\n",
       "      <th>5575-GNVDE</th>\n",
       "      <td>2017-04-01</td>\n",
       "      <td>2020-02-01</td>\n",
       "      <td>One year</td>\n",
       "      <td>No</td>\n",
       "      <td>Mailed check</td>\n",
       "      <td>56.95</td>\n",
       "      <td>2071.84</td>\n",
       "      <td>Male</td>\n",
       "      <td>0</td>\n",
       "      <td>No</td>\n",
       "      <td>No</td>\n",
       "      <td>DSL</td>\n",
       "      <td>Yes</td>\n",
       "      <td>No</td>\n",
       "      <td>Yes</td>\n",
       "      <td>No</td>\n",
       "      <td>No</td>\n",
       "      <td>No</td>\n",
       "      <td>No</td>\n",
       "      <td>0</td>\n",
       "      <td>1036</td>\n",
       "    </tr>\n",
       "    <tr>\n",
       "      <th>7795-CFOCW</th>\n",
       "      <td>2016-05-01</td>\n",
       "      <td>2020-02-01</td>\n",
       "      <td>One year</td>\n",
       "      <td>No</td>\n",
       "      <td>Bank transfer (automatic)</td>\n",
       "      <td>42.30</td>\n",
       "      <td>1960.60</td>\n",
       "      <td>Male</td>\n",
       "      <td>0</td>\n",
       "      <td>No</td>\n",
       "      <td>No</td>\n",
       "      <td>DSL</td>\n",
       "      <td>Yes</td>\n",
       "      <td>No</td>\n",
       "      <td>Yes</td>\n",
       "      <td>Yes</td>\n",
       "      <td>No</td>\n",
       "      <td>No</td>\n",
       "      <td>No phone</td>\n",
       "      <td>0</td>\n",
       "      <td>1371</td>\n",
       "    </tr>\n",
       "    <tr>\n",
       "      <th>1452-KIOVK</th>\n",
       "      <td>2018-04-01</td>\n",
       "      <td>2020-02-01</td>\n",
       "      <td>Month-to-month</td>\n",
       "      <td>Yes</td>\n",
       "      <td>Credit card (automatic)</td>\n",
       "      <td>89.10</td>\n",
       "      <td>2058.21</td>\n",
       "      <td>Male</td>\n",
       "      <td>0</td>\n",
       "      <td>No</td>\n",
       "      <td>Yes</td>\n",
       "      <td>Fiber optic</td>\n",
       "      <td>No</td>\n",
       "      <td>Yes</td>\n",
       "      <td>No</td>\n",
       "      <td>No</td>\n",
       "      <td>Yes</td>\n",
       "      <td>No</td>\n",
       "      <td>Yes</td>\n",
       "      <td>0</td>\n",
       "      <td>671</td>\n",
       "    </tr>\n",
       "    <tr>\n",
       "      <th>6713-OKOMC</th>\n",
       "      <td>2019-04-01</td>\n",
       "      <td>2020-02-01</td>\n",
       "      <td>Month-to-month</td>\n",
       "      <td>No</td>\n",
       "      <td>Mailed check</td>\n",
       "      <td>29.75</td>\n",
       "      <td>300.48</td>\n",
       "      <td>Female</td>\n",
       "      <td>0</td>\n",
       "      <td>No</td>\n",
       "      <td>No</td>\n",
       "      <td>DSL</td>\n",
       "      <td>Yes</td>\n",
       "      <td>No</td>\n",
       "      <td>No</td>\n",
       "      <td>No</td>\n",
       "      <td>No</td>\n",
       "      <td>No</td>\n",
       "      <td>No phone</td>\n",
       "      <td>0</td>\n",
       "      <td>306</td>\n",
       "    </tr>\n",
       "    <tr>\n",
       "      <th>9763-GRSKD</th>\n",
       "      <td>2019-01-01</td>\n",
       "      <td>2020-02-01</td>\n",
       "      <td>Month-to-month</td>\n",
       "      <td>Yes</td>\n",
       "      <td>Mailed check</td>\n",
       "      <td>49.95</td>\n",
       "      <td>649.35</td>\n",
       "      <td>Male</td>\n",
       "      <td>0</td>\n",
       "      <td>Yes</td>\n",
       "      <td>Yes</td>\n",
       "      <td>DSL</td>\n",
       "      <td>Yes</td>\n",
       "      <td>No</td>\n",
       "      <td>No</td>\n",
       "      <td>No</td>\n",
       "      <td>No</td>\n",
       "      <td>No</td>\n",
       "      <td>No</td>\n",
       "      <td>0</td>\n",
       "      <td>396</td>\n",
       "    </tr>\n",
       "    <tr>\n",
       "      <th>...</th>\n",
       "      <td>...</td>\n",
       "      <td>...</td>\n",
       "      <td>...</td>\n",
       "      <td>...</td>\n",
       "      <td>...</td>\n",
       "      <td>...</td>\n",
       "      <td>...</td>\n",
       "      <td>...</td>\n",
       "      <td>...</td>\n",
       "      <td>...</td>\n",
       "      <td>...</td>\n",
       "      <td>...</td>\n",
       "      <td>...</td>\n",
       "      <td>...</td>\n",
       "      <td>...</td>\n",
       "      <td>...</td>\n",
       "      <td>...</td>\n",
       "      <td>...</td>\n",
       "      <td>...</td>\n",
       "      <td>...</td>\n",
       "      <td>...</td>\n",
       "    </tr>\n",
       "    <tr>\n",
       "      <th>7750-EYXWZ</th>\n",
       "      <td>2019-02-01</td>\n",
       "      <td>2020-02-01</td>\n",
       "      <td>One year</td>\n",
       "      <td>No</td>\n",
       "      <td>Electronic check</td>\n",
       "      <td>60.65</td>\n",
       "      <td>727.80</td>\n",
       "      <td>Female</td>\n",
       "      <td>0</td>\n",
       "      <td>No</td>\n",
       "      <td>No</td>\n",
       "      <td>DSL</td>\n",
       "      <td>No</td>\n",
       "      <td>Yes</td>\n",
       "      <td>Yes</td>\n",
       "      <td>Yes</td>\n",
       "      <td>Yes</td>\n",
       "      <td>Yes</td>\n",
       "      <td>No phone</td>\n",
       "      <td>0</td>\n",
       "      <td>365</td>\n",
       "    </tr>\n",
       "    <tr>\n",
       "      <th>6840-RESVB</th>\n",
       "      <td>2018-02-01</td>\n",
       "      <td>2020-02-01</td>\n",
       "      <td>One year</td>\n",
       "      <td>Yes</td>\n",
       "      <td>Mailed check</td>\n",
       "      <td>84.80</td>\n",
       "      <td>2035.20</td>\n",
       "      <td>Male</td>\n",
       "      <td>0</td>\n",
       "      <td>Yes</td>\n",
       "      <td>Yes</td>\n",
       "      <td>DSL</td>\n",
       "      <td>Yes</td>\n",
       "      <td>No</td>\n",
       "      <td>Yes</td>\n",
       "      <td>Yes</td>\n",
       "      <td>Yes</td>\n",
       "      <td>Yes</td>\n",
       "      <td>Yes</td>\n",
       "      <td>0</td>\n",
       "      <td>730</td>\n",
       "    </tr>\n",
       "    <tr>\n",
       "      <th>2234-XADUH</th>\n",
       "      <td>2014-02-01</td>\n",
       "      <td>2020-02-01</td>\n",
       "      <td>One year</td>\n",
       "      <td>Yes</td>\n",
       "      <td>Credit card (automatic)</td>\n",
       "      <td>103.20</td>\n",
       "      <td>7430.40</td>\n",
       "      <td>Female</td>\n",
       "      <td>0</td>\n",
       "      <td>Yes</td>\n",
       "      <td>Yes</td>\n",
       "      <td>Fiber optic</td>\n",
       "      <td>No</td>\n",
       "      <td>Yes</td>\n",
       "      <td>Yes</td>\n",
       "      <td>No</td>\n",
       "      <td>Yes</td>\n",
       "      <td>Yes</td>\n",
       "      <td>Yes</td>\n",
       "      <td>0</td>\n",
       "      <td>2191</td>\n",
       "    </tr>\n",
       "    <tr>\n",
       "      <th>4801-JZAZL</th>\n",
       "      <td>2019-03-01</td>\n",
       "      <td>2020-02-01</td>\n",
       "      <td>Month-to-month</td>\n",
       "      <td>Yes</td>\n",
       "      <td>Electronic check</td>\n",
       "      <td>29.60</td>\n",
       "      <td>325.60</td>\n",
       "      <td>Female</td>\n",
       "      <td>0</td>\n",
       "      <td>Yes</td>\n",
       "      <td>Yes</td>\n",
       "      <td>DSL</td>\n",
       "      <td>Yes</td>\n",
       "      <td>No</td>\n",
       "      <td>No</td>\n",
       "      <td>No</td>\n",
       "      <td>No</td>\n",
       "      <td>No</td>\n",
       "      <td>No phone</td>\n",
       "      <td>0</td>\n",
       "      <td>337</td>\n",
       "    </tr>\n",
       "    <tr>\n",
       "      <th>3186-AJIEK</th>\n",
       "      <td>2014-08-01</td>\n",
       "      <td>2020-02-01</td>\n",
       "      <td>Two year</td>\n",
       "      <td>Yes</td>\n",
       "      <td>Bank transfer (automatic)</td>\n",
       "      <td>105.65</td>\n",
       "      <td>7251.82</td>\n",
       "      <td>Male</td>\n",
       "      <td>0</td>\n",
       "      <td>No</td>\n",
       "      <td>No</td>\n",
       "      <td>Fiber optic</td>\n",
       "      <td>Yes</td>\n",
       "      <td>No</td>\n",
       "      <td>Yes</td>\n",
       "      <td>Yes</td>\n",
       "      <td>Yes</td>\n",
       "      <td>Yes</td>\n",
       "      <td>No</td>\n",
       "      <td>0</td>\n",
       "      <td>2010</td>\n",
       "    </tr>\n",
       "  </tbody>\n",
       "</table>\n",
       "<p>2167 rows × 21 columns</p>\n",
       "</div>"
      ],
      "text/plain": [
       "           begin_date   end_date            type paperless_billing  \\\n",
       "customerID                                                           \n",
       "5575-GNVDE 2017-04-01 2020-02-01        One year                No   \n",
       "7795-CFOCW 2016-05-01 2020-02-01        One year                No   \n",
       "1452-KIOVK 2018-04-01 2020-02-01  Month-to-month               Yes   \n",
       "6713-OKOMC 2019-04-01 2020-02-01  Month-to-month                No   \n",
       "9763-GRSKD 2019-01-01 2020-02-01  Month-to-month               Yes   \n",
       "...               ...        ...             ...               ...   \n",
       "7750-EYXWZ 2019-02-01 2020-02-01        One year                No   \n",
       "6840-RESVB 2018-02-01 2020-02-01        One year               Yes   \n",
       "2234-XADUH 2014-02-01 2020-02-01        One year               Yes   \n",
       "4801-JZAZL 2019-03-01 2020-02-01  Month-to-month               Yes   \n",
       "3186-AJIEK 2014-08-01 2020-02-01        Two year               Yes   \n",
       "\n",
       "                       payment_method  monthly_charges  total_charges  gender  \\\n",
       "customerID                                                                      \n",
       "5575-GNVDE               Mailed check            56.95        2071.84    Male   \n",
       "7795-CFOCW  Bank transfer (automatic)            42.30        1960.60    Male   \n",
       "1452-KIOVK    Credit card (automatic)            89.10        2058.21    Male   \n",
       "6713-OKOMC               Mailed check            29.75         300.48  Female   \n",
       "9763-GRSKD               Mailed check            49.95         649.35    Male   \n",
       "...                               ...              ...            ...     ...   \n",
       "7750-EYXWZ           Electronic check            60.65         727.80  Female   \n",
       "6840-RESVB               Mailed check            84.80        2035.20    Male   \n",
       "2234-XADUH    Credit card (automatic)           103.20        7430.40  Female   \n",
       "4801-JZAZL           Electronic check            29.60         325.60  Female   \n",
       "3186-AJIEK  Bank transfer (automatic)           105.65        7251.82    Male   \n",
       "\n",
       "            senior_citizen partner dependents internet_service  \\\n",
       "customerID                                                       \n",
       "5575-GNVDE               0      No         No              DSL   \n",
       "7795-CFOCW               0      No         No              DSL   \n",
       "1452-KIOVK               0      No        Yes      Fiber optic   \n",
       "6713-OKOMC               0      No         No              DSL   \n",
       "9763-GRSKD               0     Yes        Yes              DSL   \n",
       "...                    ...     ...        ...              ...   \n",
       "7750-EYXWZ               0      No         No              DSL   \n",
       "6840-RESVB               0     Yes        Yes              DSL   \n",
       "2234-XADUH               0     Yes        Yes      Fiber optic   \n",
       "4801-JZAZL               0     Yes        Yes              DSL   \n",
       "3186-AJIEK               0      No         No      Fiber optic   \n",
       "\n",
       "           online_security online_backup device_protection tech_support  \\\n",
       "customerID                                                                \n",
       "5575-GNVDE             Yes            No               Yes           No   \n",
       "7795-CFOCW             Yes            No               Yes          Yes   \n",
       "1452-KIOVK              No           Yes                No           No   \n",
       "6713-OKOMC             Yes            No                No           No   \n",
       "9763-GRSKD             Yes            No                No           No   \n",
       "...                    ...           ...               ...          ...   \n",
       "7750-EYXWZ              No           Yes               Yes          Yes   \n",
       "6840-RESVB             Yes            No               Yes          Yes   \n",
       "2234-XADUH              No           Yes               Yes           No   \n",
       "4801-JZAZL             Yes            No                No           No   \n",
       "3186-AJIEK             Yes            No               Yes          Yes   \n",
       "\n",
       "           streaming_tv streaming_movies multiple_lines  exited  \\\n",
       "customerID                                                        \n",
       "5575-GNVDE           No               No             No       0   \n",
       "7795-CFOCW           No               No       No phone       0   \n",
       "1452-KIOVK          Yes               No            Yes       0   \n",
       "6713-OKOMC           No               No       No phone       0   \n",
       "9763-GRSKD           No               No             No       0   \n",
       "...                 ...              ...            ...     ...   \n",
       "7750-EYXWZ          Yes              Yes       No phone       0   \n",
       "6840-RESVB          Yes              Yes            Yes       0   \n",
       "2234-XADUH          Yes              Yes            Yes       0   \n",
       "4801-JZAZL           No               No       No phone       0   \n",
       "3186-AJIEK          Yes              Yes             No       0   \n",
       "\n",
       "            contract_duration  \n",
       "customerID                     \n",
       "5575-GNVDE               1036  \n",
       "7795-CFOCW               1371  \n",
       "1452-KIOVK                671  \n",
       "6713-OKOMC                306  \n",
       "9763-GRSKD                396  \n",
       "...                       ...  \n",
       "7750-EYXWZ                365  \n",
       "6840-RESVB                730  \n",
       "2234-XADUH               2191  \n",
       "4801-JZAZL                337  \n",
       "3186-AJIEK               2010  \n",
       "\n",
       "[2167 rows x 21 columns]"
      ]
     },
     "execution_count": 47,
     "metadata": {},
     "output_type": "execute_result"
    }
   ],
   "source": [
    "df[df['online_security'] != df['online_backup']]"
   ]
  },
  {
   "cell_type": "markdown",
   "metadata": {},
   "source": [
    "Из матрицы корреляции можно сделать несколько выводов:\n",
    "1. Т.к. целевой признак и признак длительности контракта были расчитана на основе признаков Даты начала и Даты закрытия договора, между ними есть прямая связь, нужно удалить признаки `begin_date` и `end_date`;\n",
    "2. Есть сильная связь между Ежемесячными тратами и подключенными сервисами, особенно интернет сервисам;\n",
    "3. Есть сильная связь между Всеми интернет сервисами, скорее всего они берутся пакетом;\n",
    "4. Так же наблюдается связь между длительностью договора и Всего потраченых денег на услуги, чем дольше клиент пользуется услугами, теб больше он на них тратит денег."
   ]
  },
  {
   "cell_type": "code",
   "execution_count": 48,
   "metadata": {},
   "outputs": [],
   "source": [
    "# Удалим признаки begin_date, end_date и total_charges\n",
    "df = df.drop(['begin_date', 'end_date', 'total_charges'], axis=1)"
   ]
  },
  {
   "cell_type": "markdown",
   "metadata": {},
   "source": [
    "<div class=\"alert alert-success\">\n",
    "<b>Комментарий ревьюера:\n",
    "&#9989;</b> Отлично!</div>"
   ]
  },
  {
   "cell_type": "markdown",
   "metadata": {},
   "source": [
    "### Исследование дисбаланса классов"
   ]
  },
  {
   "cell_type": "code",
   "execution_count": 49,
   "metadata": {},
   "outputs": [],
   "source": [
    "# Функция для визуализации соотношения классов\n",
    "def plot_disbalance(targets):\n",
    "    sizes = [\n",
    "        (targets == 0).sum() / targets.shape[0] * 100,\n",
    "        (targets == 1).sum() / targets.shape[0] * 100\n",
    "    ]\n",
    "    fig, ax = plt.subplots(figsize=(8, 8))\n",
    "    ax.set_title('Соотношение классов')\n",
    "    \n",
    "    ax.pie(sizes, labels=['Остались', 'Ушли'], autopct='%1.1f%%');"
   ]
  },
  {
   "cell_type": "code",
   "execution_count": 50,
   "metadata": {},
   "outputs": [
    {
     "data": {
      "image/png": "[encoded data removed]",
      "text/plain": [
       "<Figure size 576x576 with 1 Axes>"
      ]
     },
     "metadata": {},
     "output_type": "display_data"
    }
   ],
   "source": [
    "# Проверим соотношение классов\n",
    "plot_disbalance(df['exited'])"
   ]
  },
  {
   "cell_type": "markdown",
   "metadata": {},
   "source": [
    "В данных есть большой дисбаланс целевого признака. Так как выбранная метрика не чувствительна к дисбалансу, устранять его не требуется."
   ]
  },
  {
   "cell_type": "markdown",
   "metadata": {},
   "source": [
    "<div class=\"alert alert-success\">\n",
    "<b>Комментарий ревьюера:\n",
    "&#9989;</b> Отлично!</div>"
   ]
  },
  {
   "cell_type": "markdown",
   "metadata": {},
   "source": [
    "### Вывод"
   ]
  },
  {
   "cell_type": "markdown",
   "metadata": {},
   "source": [
    "На данном этапе были выполнены слдующие действия:\n",
    "1. Данные объединены в одну таблицу, за основну взята таблица с данными о контрактах;\n",
    "2. Сформирован признак длительности действия контракта. При ормировании признака конечной датой считалась дата расторжения договора или дата выгрузки данных;\n",
    "3. Сформирован целевой признак: Ушел клиент или Осталься;\n",
    "4. Исследовано распределение численных признаков;\n",
    "5. Исследована корреляция признаков. В результате былы удалены три признака Дата заключения контракат, Дата расторжения контракта, Общая сумма трат услуги."
   ]
  },
  {
   "cell_type": "markdown",
   "metadata": {},
   "source": [
    "## Обучение моделей"
   ]
  },
  {
   "cell_type": "code",
   "execution_count": 51,
   "metadata": {},
   "outputs": [],
   "source": [
    "RANDOM_STATE = 280823\n",
    "TEST_SIZE = 0.25"
   ]
  },
  {
   "cell_type": "markdown",
   "metadata": {},
   "source": [
    "### Выделение выборок"
   ]
  },
  {
   "cell_type": "code",
   "execution_count": 52,
   "metadata": {},
   "outputs": [],
   "source": [
    "features = df.drop(['exited'], axis=1)\n",
    "target = df['exited']"
   ]
  },
  {
   "cell_type": "code",
   "execution_count": 53,
   "metadata": {},
   "outputs": [
    {
     "name": "stdout",
     "output_type": "stream",
     "text": [
      "Признаки:\n",
      "Размер обучающей выборки (5099, 17) (75%)\n",
      "Размер тестовой выборки (1700, 17) (25%)\n",
      "\n",
      "Целевой признак:\n",
      "Размер обучающей выборки (5099,) (75%)\n",
      "Размер тестовой выборки (1700,) (25%)\n"
     ]
    }
   ],
   "source": [
    "# Так как в данных естьдисбаланс, при разбиении выбороко стратифицируем их \n",
    "features_train, features_test, target_train, target_test = train_test_split(\n",
    "    features, target, test_size=TEST_SIZE, random_state=RANDOM_STATE, stratify=target\n",
    ")\n",
    "print('Признаки:')\n",
    "print(f'Размер обучающей выборки {features_train.shape} ({features_train.shape[0] / features.shape[0] * 100:0.0f}%)')\n",
    "print(f'Размер тестовой выборки {features_test.shape} ({features_test.shape[0] / features.shape[0] * 100:0.0f}%)')\n",
    "\n",
    "print('')\n",
    "print('Целевой признак:')\n",
    "print(f'Размер обучающей выборки {target_train.shape} ({target_train.shape[0] / target.shape[0] * 100:0.0f}%)')\n",
    "print(f'Размер тестовой выборки {target_test.shape} ({target_test.shape[0] / target.shape[0] * 100:0.0f}%)')"
   ]
  },
  {
   "cell_type": "markdown",
   "metadata": {},
   "source": [
    "### Кодирование и масштабирование признаков"
   ]
  },
  {
   "cell_type": "code",
   "execution_count": 54,
   "metadata": {},
   "outputs": [
    {
     "data": {
      "text/plain": [
       "['type',\n",
       " 'paperless_billing',\n",
       " 'payment_method',\n",
       " 'gender',\n",
       " 'partner',\n",
       " 'dependents',\n",
       " 'internet_service',\n",
       " 'online_security',\n",
       " 'online_backup',\n",
       " 'device_protection',\n",
       " 'tech_support',\n",
       " 'streaming_tv',\n",
       " 'streaming_movies',\n",
       " 'multiple_lines',\n",
       " 'senior_citizen']"
      ]
     },
     "execution_count": 54,
     "metadata": {},
     "output_type": "execute_result"
    }
   ],
   "source": [
    "# Выделим категориальные\n",
    "ohe_features = features_train.select_dtypes(include='object').columns.to_list()\n",
    "ohe_features.append('senior_citizen')\n",
    "ohe_features"
   ]
  },
  {
   "cell_type": "code",
   "execution_count": 55,
   "metadata": {},
   "outputs": [
    {
     "data": {
      "text/plain": [
       "['monthly_charges', 'contract_duration']"
      ]
     },
     "execution_count": 55,
     "metadata": {},
     "output_type": "execute_result"
    }
   ],
   "source": [
    "# Выделим численные признаки\n",
    "num_features = features_train.select_dtypes(exclude='object').columns.to_list()\n",
    "num_features.remove('senior_citizen')\n",
    "num_features"
   ]
  },
  {
   "cell_type": "code",
   "execution_count": 56,
   "metadata": {},
   "outputs": [],
   "source": [
    "# Свормируем трансформер для Кодирования и Масштабирования признаков.\n",
    "# добавляем remainder='passthrough для бинарного признака senior_citizen\n",
    "col_transformer = make_column_transformer(\n",
    "    (\n",
    "        OneHotEncoder(drop='first', handle_unknown='ignore'),\n",
    "        ohe_features\n",
    "    ),\n",
    "    (\n",
    "        StandardScaler(), \n",
    "        num_features\n",
    "    ),\n",
    "    remainder='passthrough'\n",
    ")"
   ]
  },
  {
   "cell_type": "markdown",
   "metadata": {},
   "source": [
    "<div class=\"alert alert-success\">\n",
    "<b>Комментарий ревьюера:\n",
    "&#9989;</b> Молодец, что используешь пайплайны!</div>"
   ]
  },
  {
   "cell_type": "markdown",
   "metadata": {},
   "source": [
    "### Обучение моделей"
   ]
  },
  {
   "cell_type": "code",
   "execution_count": 57,
   "metadata": {},
   "outputs": [],
   "source": [
    "results = pd.DataFrame([],\n",
    "    columns=['Модель', 'Метапараметры', 'ROC-AUC']\n",
    ")"
   ]
  },
  {
   "cell_type": "markdown",
   "metadata": {},
   "source": [
    "#### RandomForestClassifier"
   ]
  },
  {
   "cell_type": "code",
   "execution_count": 58,
   "metadata": {},
   "outputs": [
    {
     "name": "stdout",
     "output_type": "stream",
     "text": [
      "Лучшее значение ROC-AUC для RandomForestClassifier: 0.81 при значениях гиперпараметров: {'randomforestclassifier__max_depth': 7, 'randomforestclassifier__n_estimators': 230}\n"
     ]
    }
   ],
   "source": [
    "model_forest = RandomForestClassifier(random_state=RANDOM_STATE)\n",
    "\n",
    "pipline_forest = make_pipeline(col_transformer, model_forest)\n",
    "\n",
    "param_grid = {\n",
    "    'randomforestclassifier__n_estimators': range(200, 250, 10),\n",
    "    'randomforestclassifier__max_depth': range(5, 8),\n",
    "}\n",
    "\n",
    "grid_forest = GridSearchCV(\n",
    "    pipline_forest,\n",
    "    param_grid=param_grid,\n",
    "    scoring='roc_auc',\n",
    "    n_jobs=-1,\n",
    "    cv=5\n",
    ")\n",
    "\n",
    "grid_forest.fit(features_train, target_train)\n",
    "results.loc[len(results)] = ['RandomForestClassifier', grid_forest.best_params_, grid_forest.best_score_]\n",
    "print(f'Лучшее значение ROC-AUC для RandomForestClassifier: {grid_forest.best_score_:.2f} при значениях гиперпараметров: {grid_forest.best_params_}')"
   ]
  },
  {
   "cell_type": "markdown",
   "metadata": {},
   "source": [
    "<div class=\"alert alert-danger\">\n",
    "<b>Комментарий ревьюера: &#10060; </b> Но ведь выше ты написал, что бороться с дисбалансом не требуется, а тут используешь весовые коэффициенты </div>"
   ]
  },
  {
   "cell_type": "markdown",
   "metadata": {},
   "source": [
    "<div class=\"alert alert-info\">\n",
    "    <b>Комментарий студента:</b> Исправил\n",
    "</div>"
   ]
  },
  {
   "cell_type": "markdown",
   "metadata": {},
   "source": [
    "#### LogisticRegression"
   ]
  },
  {
   "cell_type": "code",
   "execution_count": 59,
   "metadata": {},
   "outputs": [
    {
     "name": "stdout",
     "output_type": "stream",
     "text": [
      "Лучшее значение ROC-AUC для LogisticRegression: 0.75 при значениях гиперпараметров: {'logisticregression__C': 0.7, 'logisticregression__solver': 'lbfgs'}\n"
     ]
    }
   ],
   "source": [
    "model_regression = LogisticRegression(random_state=RANDOM_STATE)\n",
    "\n",
    "pipline_regression = make_pipeline(col_transformer, model_regression)\n",
    "\n",
    "param_grid = {\n",
    "    'logisticregression__solver': ['lbfgs'],\n",
    "    'logisticregression__C': np.arange(0.7, 1.01, 0.1)\n",
    "}\n",
    "\n",
    "grid_regression = GridSearchCV(\n",
    "    pipline_regression, \n",
    "    param_grid=param_grid, \n",
    "    scoring='roc_auc', \n",
    "    n_jobs=-1,\n",
    "    cv=5\n",
    ")\n",
    "\n",
    "grid_regression.fit(features_train, target_train)\n",
    "results.loc[len(results)] = ['LogisticRegression', grid_regression.best_params_, grid_regression.best_score_]\n",
    "print(f'Лучшее значение ROC-AUC для LogisticRegression: {grid_regression.best_score_:.2f} при значениях гиперпараметров: {grid_regression.best_params_}')"
   ]
  },
  {
   "cell_type": "markdown",
   "metadata": {},
   "source": [
    "#### CatBoostClassifier"
   ]
  },
  {
   "cell_type": "code",
   "execution_count": 60,
   "metadata": {},
   "outputs": [
    {
     "name": "stdout",
     "output_type": "stream",
     "text": [
      "Лучшее значение ROC-AUC для CatBoostClassifier: 0.91 при значениях гиперпараметров: {'learning_rate': 0.1, 'max_depth': 4, 'n_estimators': 1000}\n"
     ]
    }
   ],
   "source": [
    "model_cat_boost = CatBoostClassifier(\n",
    "    random_state=RANDOM_STATE, \n",
    "    cat_features=ohe_features,\n",
    "    silent=True\n",
    ")\n",
    "\n",
    "param_grid = {\n",
    "    'max_depth': [4], #range(3, 5),\n",
    "    'learning_rate': [0.1], #[0.01, 0.1],\n",
    "    'n_estimators': range(900, 1001, 100)\n",
    "}\n",
    "\n",
    "grid_cat_boost =  GridSearchCV(\n",
    "    model_cat_boost, \n",
    "    param_grid=param_grid, \n",
    "    scoring='roc_auc', \n",
    "    n_jobs=-1,\n",
    "    cv=5\n",
    ")\n",
    "\n",
    "grid_cat_boost.fit(features_train, target_train)\n",
    "\n",
    "results.loc[len(results)] = ['CatBoostClassifier', grid_cat_boost.best_params_, grid_cat_boost.best_score_]\n",
    "print(f'Лучшее значение ROC-AUC для CatBoostClassifier: {grid_cat_boost.best_score_:.2f} при значениях гиперпараметров: {grid_cat_boost.best_params_}')"
   ]
  },
  {
   "cell_type": "markdown",
   "metadata": {},
   "source": [
    "### Выбор итоговой модели по результатам кроссвалидации"
   ]
  },
  {
   "cell_type": "code",
   "execution_count": 61,
   "metadata": {},
   "outputs": [
    {
     "data": {
      "text/html": [
       "<style  type=\"text/css\" >\n",
       "#T_b0a55_row2_col2{\n",
       "            color: white;\n",
       "            background-color: darkblue;\n",
       "        }</style><table id=\"T_b0a55_\" ><thead>    <tr>        <th class=\"blank level0\" ></th>        <th class=\"col_heading level0 col0\" >Модель</th>        <th class=\"col_heading level0 col1\" >Метапараметры</th>        <th class=\"col_heading level0 col2\" >ROC-AUC</th>    </tr></thead><tbody>\n",
       "                <tr>\n",
       "                        <th id=\"T_b0a55_level0_row0\" class=\"row_heading level0 row0\" >0</th>\n",
       "                        <td id=\"T_b0a55_row0_col0\" class=\"data row0 col0\" >RandomForestClassifier</td>\n",
       "                        <td id=\"T_b0a55_row0_col1\" class=\"data row0 col1\" >{'randomforestclassifier__max_depth': 7, 'randomforestclassifier__n_estimators': 230}</td>\n",
       "                        <td id=\"T_b0a55_row0_col2\" class=\"data row0 col2\" >0.814234</td>\n",
       "            </tr>\n",
       "            <tr>\n",
       "                        <th id=\"T_b0a55_level0_row1\" class=\"row_heading level0 row1\" >1</th>\n",
       "                        <td id=\"T_b0a55_row1_col0\" class=\"data row1 col0\" >LogisticRegression</td>\n",
       "                        <td id=\"T_b0a55_row1_col1\" class=\"data row1 col1\" >{'logisticregression__C': 0.7, 'logisticregression__solver': 'lbfgs'}</td>\n",
       "                        <td id=\"T_b0a55_row1_col2\" class=\"data row1 col2\" >0.746995</td>\n",
       "            </tr>\n",
       "            <tr>\n",
       "                        <th id=\"T_b0a55_level0_row2\" class=\"row_heading level0 row2\" >2</th>\n",
       "                        <td id=\"T_b0a55_row2_col0\" class=\"data row2 col0\" >CatBoostClassifier</td>\n",
       "                        <td id=\"T_b0a55_row2_col1\" class=\"data row2 col1\" >{'learning_rate': 0.1, 'max_depth': 4, 'n_estimators': 1000}</td>\n",
       "                        <td id=\"T_b0a55_row2_col2\" class=\"data row2 col2\" >0.913551</td>\n",
       "            </tr>\n",
       "    </tbody></table>"
      ],
      "text/plain": [
       "<pandas.io.formats.style.Styler at 0x7f6d81746d90>"
      ]
     },
     "execution_count": 61,
     "metadata": {},
     "output_type": "execute_result"
    }
   ],
   "source": [
    "def highlight_max(s, props=''):\n",
    "    return np.where(s == np.nanmax(s.values), props, '')\n",
    "\n",
    "results.style.apply(highlight_max, props='color:white;background-color:darkblue', axis=0, subset=['ROC-AUC'])"
   ]
  },
  {
   "cell_type": "markdown",
   "metadata": {},
   "source": [
    "Наилучшее значение целевой метрики показала модель бинарной классификации **CatBoost**."
   ]
  },
  {
   "cell_type": "code",
   "execution_count": 62,
   "metadata": {},
   "outputs": [],
   "source": [
    "best_model = grid_cat_boost"
   ]
  },
  {
   "cell_type": "markdown",
   "metadata": {},
   "source": [
    "### Проверка выбранной модели на тестовой выборке"
   ]
  },
  {
   "cell_type": "code",
   "execution_count": 63,
   "metadata": {},
   "outputs": [
    {
     "name": "stdout",
     "output_type": "stream",
     "text": [
      "Значение ROC-AUC на тестовой выборке для CatBoostClassifier: 0.92\n"
     ]
    }
   ],
   "source": [
    "probabilities_test = best_model.predict_proba(features_test)\n",
    "probabilities_one_test = probabilities_test[:, 1]\n",
    "\n",
    "print(f'Значение ROC-AUC на тестовой выборке для CatBoostClassifier: {roc_auc_score(target_test, probabilities_one_test):.2f}')"
   ]
  },
  {
   "cell_type": "markdown",
   "metadata": {},
   "source": [
    "Значение ROC-AUC на тестовой выборке больше указанного в постановке порогового значения 0.85."
   ]
  },
  {
   "cell_type": "markdown",
   "metadata": {},
   "source": [
    "### Анализ ROC-кривой итоговой модели"
   ]
  },
  {
   "cell_type": "code",
   "execution_count": 64,
   "metadata": {},
   "outputs": [
    {
     "data": {
      "image/png": "[encoded data removed]",
      "text/plain": [
       "<Figure size 1152x576 with 1 Axes>"
      ]
     },
     "metadata": {
      "needs_background": "light"
     },
     "output_type": "display_data"
    }
   ],
   "source": [
    "# Получим значения метрик для разных пороговых значений\n",
    "fpr, tpr, thresholds = roc_curve(target_test, probabilities_one_test)\n",
    "\n",
    "# Построим график\n",
    "plt.figure(figsize=(16, 8))\n",
    "plt.plot(fpr, tpr)\n",
    "\n",
    "# ROC-кривая случайной модели (выглядит как прямая)\n",
    "plt.plot([0, 1], [0, 1], linestyle='--')\n",
    "\n",
    "plt.ylim([0.0, 1.0])\n",
    "plt.xlim([0.0, 1.0])\n",
    "\n",
    "plt.xlabel('False Positive Rate')\n",
    "plt.ylabel('True Positive Rate')\n",
    "plt.title('ROC-кривая')\n",
    "\n",
    "plt.show()"
   ]
  },
  {
   "cell_type": "markdown",
   "metadata": {},
   "source": [
    "### Анализ матрицы ошибок"
   ]
  },
  {
   "cell_type": "code",
   "execution_count": 65,
   "metadata": {},
   "outputs": [],
   "source": [
    "prediction = best_model.predict(features_test)\n",
    "cm = confusion_matrix(target_test, prediction)\n",
    "tn, fp, fn, tp = cm.ravel()"
   ]
  },
  {
   "cell_type": "code",
   "execution_count": 66,
   "metadata": {},
   "outputs": [
    {
     "data": {
      "image/png": "[encoded data removed]",
      "text/plain": [
       "<Figure size 576x576 with 2 Axes>"
      ]
     },
     "metadata": {
      "needs_background": "light"
     },
     "output_type": "display_data"
    }
   ],
   "source": [
    "# Визуализируем матрицу\n",
    "fig, ax = plt.subplots(figsize=(8, 8))\n",
    "disp = ConfusionMatrixDisplay.from_estimator(\n",
    "    best_model,\n",
    "    features_test,\n",
    "    target_test,\n",
    "    normalize='true',\n",
    "    ax=ax,\n",
    "    display_labels=['Остались', 'Ушли'],\n",
    ");"
   ]
  },
  {
   "cell_type": "markdown",
   "metadata": {},
   "source": [
    "**Точность измерений (Accuracy)** - сколько всего результатов было предсказано верно."
   ]
  },
  {
   "cell_type": "code",
   "execution_count": 67,
   "metadata": {},
   "outputs": [
    {
     "name": "stdout",
     "output_type": "stream",
     "text": [
      "Accuracy: 92.71%\n"
     ]
    }
   ],
   "source": [
    "print(f'Accuracy: {(tp + tn) / (tn + fp + fn + tp) * 100:.2f}%')"
   ]
  },
  {
   "cell_type": "markdown",
   "metadata": {},
   "source": [
    "**Точность результата измерений (Precision)** - сколько, из всех истинных предсказаний, оказались верными."
   ]
  },
  {
   "cell_type": "code",
   "execution_count": 68,
   "metadata": {},
   "outputs": [
    {
     "name": "stdout",
     "output_type": "stream",
     "text": [
      "Precision: 89.95%\n"
     ]
    }
   ],
   "source": [
    "precision = tp / (tp + fp)\n",
    "print(f'Precision: {precision * 100:.2f}%')"
   ]
  },
  {
   "cell_type": "markdown",
   "metadata": {},
   "source": [
    "**Полнота (Recall)** - сколько, из всех истинных значений, было предсказано верно."
   ]
  },
  {
   "cell_type": "code",
   "execution_count": 69,
   "metadata": {},
   "outputs": [
    {
     "name": "stdout",
     "output_type": "stream",
     "text": [
      "Recall: 61.82%\n"
     ]
    }
   ],
   "source": [
    "recall = tp / (tp + fn)\n",
    "print(f'Recall: {recall * 100:.2f}%')"
   ]
  },
  {
   "cell_type": "markdown",
   "metadata": {},
   "source": [
    "**F-мера** - среднее гармоническое precision и recall "
   ]
  },
  {
   "cell_type": "code",
   "execution_count": 70,
   "metadata": {},
   "outputs": [
    {
     "name": "stdout",
     "output_type": "stream",
     "text": [
      "F-мера: 73.28%\n"
     ]
    }
   ],
   "source": [
    "print(f'F-мера: {(2 * ((precision * recall) / (precision + recall))) * 100:.2f}%')"
   ]
  },
  {
   "cell_type": "code",
   "execution_count": 71,
   "metadata": {},
   "outputs": [
    {
     "name": "stdout",
     "output_type": "stream",
     "text": [
      "              precision    recall  f1-score   support\n",
      "\n",
      "    Остались       0.93      0.99      0.96      1425\n",
      "        Ушли       0.90      0.62      0.73       275\n",
      "\n",
      "    accuracy                           0.93      1700\n",
      "   macro avg       0.91      0.80      0.85      1700\n",
      "weighted avg       0.93      0.93      0.92      1700\n",
      "\n"
     ]
    }
   ],
   "source": [
    "print(classification_report(target_test, prediction, target_names=['Остались', 'Ушли']))"
   ]
  },
  {
   "cell_type": "markdown",
   "metadata": {},
   "source": [
    "Из данного отчета видно, что модель верно выявила клиентов, которые ушли, в **62%** случаев. Предсказания оствашихся клиентов были верны на **99%**."
   ]
  },
  {
   "cell_type": "markdown",
   "metadata": {},
   "source": [
    "### Анализ важности признаков"
   ]
  },
  {
   "cell_type": "code",
   "execution_count": 72,
   "metadata": {},
   "outputs": [
    {
     "data": {
      "text/html": [
       "<div>\n",
       "<style scoped>\n",
       "    .dataframe tbody tr th:only-of-type {\n",
       "        vertical-align: middle;\n",
       "    }\n",
       "\n",
       "    .dataframe tbody tr th {\n",
       "        vertical-align: top;\n",
       "    }\n",
       "\n",
       "    .dataframe thead th {\n",
       "        text-align: right;\n",
       "    }\n",
       "</style>\n",
       "<table border=\"1\" class=\"dataframe\">\n",
       "  <thead>\n",
       "    <tr style=\"text-align: right;\">\n",
       "      <th></th>\n",
       "      <th>Метрика</th>\n",
       "      <th>Важность</th>\n",
       "    </tr>\n",
       "  </thead>\n",
       "  <tbody>\n",
       "    <tr>\n",
       "      <th>0</th>\n",
       "      <td>contract_duration</td>\n",
       "      <td>60.003258</td>\n",
       "    </tr>\n",
       "    <tr>\n",
       "      <th>1</th>\n",
       "      <td>monthly_charges</td>\n",
       "      <td>9.314981</td>\n",
       "    </tr>\n",
       "    <tr>\n",
       "      <th>2</th>\n",
       "      <td>type</td>\n",
       "      <td>8.070919</td>\n",
       "    </tr>\n",
       "    <tr>\n",
       "      <th>3</th>\n",
       "      <td>multiple_lines</td>\n",
       "      <td>3.667621</td>\n",
       "    </tr>\n",
       "    <tr>\n",
       "      <th>4</th>\n",
       "      <td>payment_method</td>\n",
       "      <td>3.060328</td>\n",
       "    </tr>\n",
       "    <tr>\n",
       "      <th>5</th>\n",
       "      <td>partner</td>\n",
       "      <td>2.401746</td>\n",
       "    </tr>\n",
       "    <tr>\n",
       "      <th>6</th>\n",
       "      <td>device_protection</td>\n",
       "      <td>2.259264</td>\n",
       "    </tr>\n",
       "    <tr>\n",
       "      <th>7</th>\n",
       "      <td>online_backup</td>\n",
       "      <td>2.065915</td>\n",
       "    </tr>\n",
       "    <tr>\n",
       "      <th>8</th>\n",
       "      <td>streaming_tv</td>\n",
       "      <td>1.460544</td>\n",
       "    </tr>\n",
       "    <tr>\n",
       "      <th>9</th>\n",
       "      <td>streaming_movies</td>\n",
       "      <td>1.304968</td>\n",
       "    </tr>\n",
       "    <tr>\n",
       "      <th>10</th>\n",
       "      <td>online_security</td>\n",
       "      <td>1.220537</td>\n",
       "    </tr>\n",
       "    <tr>\n",
       "      <th>11</th>\n",
       "      <td>internet_service</td>\n",
       "      <td>1.182884</td>\n",
       "    </tr>\n",
       "    <tr>\n",
       "      <th>12</th>\n",
       "      <td>tech_support</td>\n",
       "      <td>1.108407</td>\n",
       "    </tr>\n",
       "    <tr>\n",
       "      <th>13</th>\n",
       "      <td>paperless_billing</td>\n",
       "      <td>0.941633</td>\n",
       "    </tr>\n",
       "    <tr>\n",
       "      <th>14</th>\n",
       "      <td>dependents</td>\n",
       "      <td>0.786977</td>\n",
       "    </tr>\n",
       "    <tr>\n",
       "      <th>15</th>\n",
       "      <td>senior_citizen</td>\n",
       "      <td>0.656440</td>\n",
       "    </tr>\n",
       "    <tr>\n",
       "      <th>16</th>\n",
       "      <td>gender</td>\n",
       "      <td>0.493577</td>\n",
       "    </tr>\n",
       "  </tbody>\n",
       "</table>\n",
       "</div>"
      ],
      "text/plain": [
       "              Метрика   Важность\n",
       "0   contract_duration  60.003258\n",
       "1     monthly_charges   9.314981\n",
       "2                type   8.070919\n",
       "3      multiple_lines   3.667621\n",
       "4      payment_method   3.060328\n",
       "5             partner   2.401746\n",
       "6   device_protection   2.259264\n",
       "7       online_backup   2.065915\n",
       "8        streaming_tv   1.460544\n",
       "9    streaming_movies   1.304968\n",
       "10    online_security   1.220537\n",
       "11   internet_service   1.182884\n",
       "12       tech_support   1.108407\n",
       "13  paperless_billing   0.941633\n",
       "14         dependents   0.786977\n",
       "15     senior_citizen   0.656440\n",
       "16             gender   0.493577"
      ]
     },
     "execution_count": 72,
     "metadata": {},
     "output_type": "execute_result"
    }
   ],
   "source": [
    "features_important = pd.DataFrame(data = {'Метрика': features_train.columns, \n",
    "                                   'Важность': best_model.best_estimator_.feature_importances_})\n",
    "features_important.sort_values('Важность', ascending=False).reset_index(drop=True)"
   ]
  },
  {
   "cell_type": "markdown",
   "metadata": {},
   "source": [
    "Самыми важными признаками оказались: Длительность контракта, Месяцные траты и Тип оплаты."
   ]
  },
  {
   "cell_type": "markdown",
   "metadata": {},
   "source": [
    "### Проверка на адекватность"
   ]
  },
  {
   "cell_type": "code",
   "execution_count": 73,
   "metadata": {},
   "outputs": [],
   "source": [
    "# Посторим модель предсказывающую самые популярные значения\n",
    "clf_dummy = DummyClassifier(strategy='most_frequent', random_state=RANDOM_STATE)\n",
    "clf_dummy.fit(features_train, target_train)\n",
    "dummy_prediction = clf_dummy.predict(features_test)"
   ]
  },
  {
   "cell_type": "code",
   "execution_count": 74,
   "metadata": {},
   "outputs": [
    {
     "data": {
      "image/png": "[encoded data removed]",
      "text/plain": [
       "<Figure size 576x576 with 2 Axes>"
      ]
     },
     "metadata": {
      "needs_background": "light"
     },
     "output_type": "display_data"
    }
   ],
   "source": [
    "# Отобразим матрицу ошибок\n",
    "fig, ax = plt.subplots(figsize=(8,8))\n",
    "ConfusionMatrixDisplay.from_estimator(\n",
    "    clf_dummy,\n",
    "    features_test,\n",
    "    target_test,\n",
    "    normalize='true',\n",
    "    ax=ax,\n",
    "    display_labels=['Остались', 'Ушли'],\n",
    ");"
   ]
  },
  {
   "cell_type": "code",
   "execution_count": 75,
   "metadata": {},
   "outputs": [
    {
     "name": "stdout",
     "output_type": "stream",
     "text": [
      "Значение ROC-AUC на тестовой выборке для DummyClassifier: 0.50\n"
     ]
    }
   ],
   "source": [
    "# Выведем результат данной модели на тестовой выборке\n",
    "dummy_probabilities_test = clf_dummy.predict_proba(features_test)\n",
    "dummy_probabilities_one_test = dummy_probabilities_test[:, 1]\n",
    "\n",
    "print(f'Значение ROC-AUC на тестовой выборке для DummyClassifier: {roc_auc_score(target_test, dummy_probabilities_one_test):.2f}')"
   ]
  },
  {
   "cell_type": "markdown",
   "metadata": {},
   "source": [
    "### Вывод"
   ]
  },
  {
   "cell_type": "markdown",
   "metadata": {},
   "source": [
    "На данном этапе были сформироаны выборки и обучены три модели. В результате наилучшие показатали были у модели CatBoostClassifier, значение `ROC_AUC = 0.9`. Выбранная модель была проверена на адекватноть и были рассмотрены показатели матрицы ошибок."
   ]
  },
  {
   "cell_type": "markdown",
   "metadata": {},
   "source": [
    "<div style=\"border-radius: 15px; border: 3px solid indigo; padding: 15px;background:rgb(185, 176, 207)\">\n",
    "<b>Итоговый комментарий ревьюера V2.1:\n",
    "</b> Молодец, отличная работа! Давай исправим расхождение с дисбалансом(бороться с ним не нужно, о чем ты и написал в анализе).В остальном все отлично!\n",
    "</div>"
   ]
  },
  {
   "cell_type": "markdown",
   "metadata": {},
   "source": [
    "<div style=\"border-radius: 15px; border: 3px solid indigo; padding: 15px;background:rgb(185, 176, 207)\">\n",
    "<b>Итоговый комментарий ревьюера V2.2:\n",
    "</b> Супер! Можешь приступать к отчетной части проекта!\n",
    "</div>"
   ]
  },
  {
   "cell_type": "markdown",
   "metadata": {},
   "source": [
    "## Отчет"
   ]
  },
  {
   "cell_type": "markdown",
   "metadata": {},
   "source": [
    "Проект был выполнен в соответствии с намеченным планом:\n",
    "\n",
    "1. Прведен обзор данных: переименованы колонки, приведены типы, заполнены пропуски;\n",
    "2. Проведено исследование данных:\n",
    "    1. Данные объединены в единую таблицу;\n",
    "    2. Сформирован признак длительности действия контракта;\n",
    "    3. Сформирован целевой признак: Ушел клиент или Остался;\n",
    "    4. Исследовано распределение численных признаков;\n",
    "    5. Исследована корреляция признаков.\n",
    "3. Выполнено обучение моделей. На данном этапе были сформированы выборки для обучения и тестирования. Для обучения использовались следующие категориальные признаки:\n",
    "    * Type - тип оплаты: ежемесячный, годовой и т.д.;\n",
    "    * PaperlessBilling - электронный платежный документ;\n",
    "    * PaymentMethod - способ оплаты;\n",
    "    * gender - пол клиента;\n",
    "    * SeniorCitizen - наличие пенсионного статуса по возрасту;\n",
    "    * Partner - наличие супруга(и);\n",
    "    * Dependents - наличие иждевенцев;\n",
    "    * InternetService - тип интернет подключения: через телефонную линию (DSL) или оптоволоконный кабель (Fiber optic);\n",
    "    * OnlineSecurity - блокировка небезопасных сайтов;\n",
    "    * OnlineBackup - облачное хранилище файлов для резервного копирования данных;\n",
    "    * DeviceProtection - антивирус;\n",
    "    * TechSupport - выделенная линия технической поддержки;\n",
    "    * StreamingTV - стриминговое телевидение;\n",
    "    * StreamingMovies - каталог фильмов;\n",
    "    * MultipleLines - наличие возможностей ведения парралельных линий во время звонка.\n",
    "    \n",
    "    И количественные признаки:\n",
    "    * MonthlyCharges - ежемесяцные траты на услуги;\n",
    "    * contract_duration - расчитанная на основе даты заключения и даты расторжения договора, длительность действия договора.\n",
    "    \n",
    "    Для кодирования признаков использовались пайплайны и OneHotEncoder. Так как выбранная метрика ROC-AUC не чувствитель к дисбалансу, балансировка целевока признака не применялась. Для подбора гиперпараметров использовался GridSearchCV.\n",
    "    \n",
    "В результате проведенного исследования удалось удалось построить модель CatBoostClassifier со значением метрики ROC-AUC на тестовой выборке 0.91, что выше заданного порогово значения. Гипер параметри модели: `learning_rate=0.1`, `max_depth=4`, `n_estimators=1000`. Так же была исследована матрица ошибок, выбранной модели и выявлено, что модель верно выявила клиентов, которые ушли, в 68% случаев. Предсказания оствашихся клиентов были верны на 99%."
   ]
  },
  {
   "cell_type": "markdown",
   "metadata": {},
   "source": [
    "<div style=\"border-radius: 15px; border: 3px solid indigo; padding: 15px;background:rgb(185, 176, 207)\">\n",
    "<b>Совсем итоговый комментарий, персональная обратная связь и рекомендации:\n",
    "</b>Молодец, отличная работа!  Поздравляю с окончанием обучения!Что можно улучшить:<br> \n",
    "    1. PEP-8(особенно импорты)<br>\n",
    "    2. Старайся избегать дублирования кода<br>\n",
    "    3. Для корреляции советую также смотреть стат. значимость коэффициентов. В phik в interval_cols стоит указывать только численные признаки <br>\n",
    "    4. Можно также добавить pairplot для численных признаков(посмотри параметр hue). Cоветую также добавить sns.countplot для категориальных признаков с параметром hue)<br>\n",
    "    5. Советую подробнее изучить  <a href = \"https://habr.com/ru/articles/712080/\">пайпланы</a><br>\n",
    "    6. Можно также добавить проверку гипотез о равенстве средних для численных признаков<br>\n",
    "    7. Почитай про <a href = \"https://machinelearningmastery.com/overfitting-and-underfitting-with-machine-learning-algorithms/\">Overfitting и Underfitting</a><br>\n",
    "    8. Советую почитать про <a href = \"https://scikit-optimize.github.io/stable/modules/generated/skopt.BayesSearchCV.html\"?>BayesSearchCV</a><br>\n",
    "    9. Советую почитать про уменьшение размерности в ML<br>\n",
    "    10. Советую почитать про ансамбли моделей <a href = \"https://habr.com/ru/post/561732/\">моделей</a><br>\n",
    "    11. Стоит подробнее почитать про <a href = \"https://towardsdatascience.com/targeting-multicollinearity-with-python-3bd3b4088d0b\">мультиколлинеарность</a><br>\n",
    "    12. Можешь почитать про feature selection<a href = \"https://machinelearningmastery.com/feature-selection-with-real-and-categorical-data/\">Тык</a><br>\n",
    "    13. Советую подробнее изучить <a href = \"https://habr.com/ru/articles/594077/\">кэтбуст</a> со встроенными методами <br>\n",
    "    14. По поводу утечек можешь почитать <a href = \"https://machinelearningmastery.com/data-preparation-without-data-leakage/\">тут</a><br>\n",
    "    15. Для анализа важности признаков советую использовать <a href=\"https://shap.readthedocs.io/en/latest/\">SHAP</a><br>\n",
    "         После второго вебинара скину файл с полезными ссылками, возможно найдешь для себя что-нибудь интересное и полезное).  </div>"
   ]
  }
 ],
 "metadata": {
  "kernelspec": {
   "display_name": "Python 3 (ipykernel)",
   "language": "python",
   "name": "python3"
  },
  "language_info": {
   "codemirror_mode": {
    "name": "ipython",
    "version": 3
   },
   "file_extension": ".py",
   "mimetype": "text/x-python",
   "name": "python",
   "nbconvert_exporter": "python",
   "pygments_lexer": "ipython3",
   "version": "3.9.5"
  },
  "toc": {
   "base_numbering": 1,
   "nav_menu": {},
   "number_sections": true,
   "sideBar": true,
   "skip_h1_title": true,
   "title_cell": "Table of Contents",
   "title_sidebar": "Contents",
   "toc_cell": false,
   "toc_position": {},
   "toc_section_display": true,
   "toc_window_display": false
  }
 },
 "nbformat": 4,
 "nbformat_minor": 2
}
